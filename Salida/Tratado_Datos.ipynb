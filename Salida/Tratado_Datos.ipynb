{
 "cells": [
  {
   "cell_type": "code",
   "execution_count": null,
   "metadata": {},
   "outputs": [],
   "source": [
    "import pandas as pd\n",
    "import matplotlib.pyplot as plt\n",
    "import numpy as np\n",
    "import os\n",
    "import gc # Liberar memoria ram"
   ]
  },
  {
   "cell_type": "markdown",
   "metadata": {},
   "source": [
    "# Carga datos y filtrado de nan "
   ]
  },
  {
   "cell_type": "code",
   "execution_count": null,
   "metadata": {},
   "outputs": [],
   "source": [
    "Carga_Datos = pd.read_csv(r\"C:\\Users\\dfgom\\OneDrive\\Escritorio\\USRP\\RFI_Captura\\Salida\\CSV_Salida.csv\")"
   ]
  },
  {
   "cell_type": "code",
   "execution_count": null,
   "metadata": {},
   "outputs": [],
   "source": [
    "Carga_Datos= Carga_Datos.dropna(subset=['Frecuencia (Hz)'])"
   ]
  },
  {
   "cell_type": "code",
   "execution_count": null,
   "metadata": {},
   "outputs": [],
   "source": [
    "Carga_Datos = Carga_Datos.replace(-379.29779052734375, np.nan) # error al tomar las muestras"
   ]
  },
  {
   "cell_type": "markdown",
   "metadata": {},
   "source": [
    "## Cantidad total de datos por cada frecuencia     "
   ]
  },
  {
   "cell_type": "code",
   "execution_count": null,
   "metadata": {},
   "outputs": [],
   "source": [
    "conteo_frecuencia = Carga_Datos['Frecuencia (Hz)'].value_counts()\n",
    "print(conteo_frecuencia)"
   ]
  },
  {
   "cell_type": "markdown",
   "metadata": {},
   "source": [
    "### Separación de muestras por cada frecuencia (Visualización)"
   ]
  },
  {
   "cell_type": "code",
   "execution_count": null,
   "metadata": {},
   "outputs": [],
   "source": [
    "recuentos_por_muestra = {}\n",
    "\n",
    "# Convertir la columna 'Frecuencia (Hz)' en un arreglo NumPy\n",
    "frecuencias = Carga_Datos['Frecuencia (Hz)'].values\n",
    "\n",
    "# Inicializar variables para llevar el seguimiento de la muestra actual y el conteo actual\n",
    "muestra_actual = None\n",
    "conteo_actual = 0\n",
    "\n",
    "for frecuencia in frecuencias:\n",
    "    if muestra_actual is None:\n",
    "        muestra_actual = frecuencia\n",
    "        conteo_actual = 1\n",
    "    elif muestra_actual == frecuencia:\n",
    "        conteo_actual += 1\n",
    "    else:\n",
    "        if muestra_actual not in recuentos_por_muestra:\n",
    "            recuentos_por_muestra[muestra_actual] = []\n",
    "        recuentos_por_muestra[muestra_actual].append(conteo_actual)\n",
    "        \n",
    "        muestra_actual = frecuencia\n",
    "        conteo_actual = 1\n",
    "\n",
    "# Agregar el último conjunto de conteos a la salida\n",
    "if muestra_actual is not None:\n",
    "    if muestra_actual not in recuentos_por_muestra:\n",
    "        recuentos_por_muestra[muestra_actual] = []\n",
    "    recuentos_por_muestra[muestra_actual].append(conteo_actual)\n",
    "\n",
    "for muestra, conteos in recuentos_por_muestra.items():\n",
    "    print(f'Frecuencia: {muestra} - Conteos: {\", \".join(map(str, conteos))}')"
   ]
  },
  {
   "cell_type": "markdown",
   "metadata": {},
   "source": [
    "# Tratado de datos\n",
    "\n",
    "Para poder tratar los datos se dividen por grupos de frecuencias y de muestras esos hacen referencia a las muestras que se toman, para posteriormente sacar el promedio de estos y el los máximos \n"
   ]
  },
  {
   "cell_type": "code",
   "execution_count": null,
   "metadata": {},
   "outputs": [],
   "source": [
    "def dividir_y_guardar_grupos(Carga_Datos, carpeta_salida):\n",
    "    if not os.path.exists(carpeta_salida):\n",
    "        os.makedirs(carpeta_salida)\n",
    "\n",
    "    cambios = np.where(Carga_Datos['Frecuencia (Hz)'].values[:-1] > Carga_Datos['Frecuencia (Hz)'].values[1:])[0]\n",
    "    cambios = np.concatenate(([0], cambios, [len(Carga_Datos)]))  # Agregar el inicio y final del DataFrame\n",
    "\n",
    "    for i in range(len(cambios) - 1):\n",
    "        inicio, fin = cambios[i], cambios[i + 1]\n",
    "        grupo = Carga_Datos.iloc[inicio:fin]\n",
    "\n",
    "        grupos_frecuencia = grupo.groupby('Frecuencia (Hz)').apply(lambda x: x.to_dict(orient='records')).tolist()\n",
    "\n",
    "        for j, subgrupo in enumerate(grupos_frecuencia):\n",
    "            if subgrupo:  # Verificar si la lista no está vacía\n",
    "                # Convertir a DataFrame solo si subgrupo[0] es un diccionario y no un escalar\n",
    "                if isinstance(subgrupo[0], dict):\n",
    "                    nombre_archivo = os.path.join(carpeta_salida, f'Muestra_{i + 1}_Grupo_{j + 1}.csv')\n",
    "                    pd.DataFrame(subgrupo).to_csv(nombre_archivo, index=False)\n",
    "                    print(f\"Grupo {i + 1}, Subgrupo {j + 1} guardado en '{nombre_archivo}'\")\n",
    "\n",
    "carpeta_muestras = 'Muestras'\n",
    "dividir_y_guardar_grupos(Carga_Datos, carpeta_muestras)\n",
    "\n"
   ]
  },
  {
   "cell_type": "code",
   "execution_count": null,
   "metadata": {},
   "outputs": [],
   "source": [
    "#del Carga_Datos\n",
    "\n",
    "def limpiar_ram(variables_locales):\n",
    "    # Lista de variables locales a eliminar\n",
    "    variables_a_eliminar = ['inicio', 'fin', 'grupo', 'grupos_frecuencia', 'subgrupo', 'nombre_archivo', 'Carga_Datos','nombre_muestra','archivo']\n",
    "\n",
    "    gc.collect()\n",
    "\n",
    "    # Eliminar las variables locales\n",
    "    for variable in variables_a_eliminar:\n",
    "        if variable in variables_locales:\n",
    "            del variables_locales[variable]"
   ]
  },
  {
   "cell_type": "code",
   "execution_count": null,
   "metadata": {},
   "outputs": [],
   "source": [
    "limpiar_ram(locals())"
   ]
  },
  {
   "cell_type": "markdown",
   "metadata": {},
   "source": [
    "# Variables "
   ]
  },
  {
   "cell_type": "code",
   "execution_count": null,
   "metadata": {},
   "outputs": [],
   "source": [
    "carpeta_entrada = r'C:\\Users\\dfgom\\OneDrive\\Escritorio\\USRP\\RFI_Captura\\Salida\\Muestras'\n",
    "\n",
    "archivos = os.listdir(carpeta_entrada)\n",
    "\n",
    "archivos_csv = [archivo for archivo in os.listdir(carpeta_entrada) if archivo.endswith('.csv')]\n",
    "\n",
    "filas_por_grupo = 1024"
   ]
  },
  {
   "cell_type": "markdown",
   "metadata": {},
   "source": [
    "# Transpone los datos cada 1024 datos, crea columna adicional con promedio de todas estas "
   ]
  },
  {
   "cell_type": "code",
   "execution_count": null,
   "metadata": {},
   "outputs": [],
   "source": [
    "# transpone los datos cada 1024 datos y saca el promedio de este en la ultima columna \n",
    "\n",
    "for archivo in archivos:\n",
    "    if archivo.endswith('.csv'):  \n",
    "        \n",
    "        data = pd.read_csv(os.path.join(carpeta_entrada, archivo))\n",
    "\n",
    "        cantidad_grupos = len(data['Frecuencia (Hz)']) // filas_por_grupo\n",
    "        columna_frecuencia = pd.Series(data['Frecuencia (Hz)'][:cantidad_grupos]).repeat(filas_por_grupo).reset_index(drop=True)\n",
    "        data['Grupo'] = (data.index // filas_por_grupo) + 1\n",
    "        data['Nuevo_Indice'] = data.groupby('Grupo').cumcount()\n",
    "        df_pivot = data.pivot(index='Nuevo_Indice', columns='Grupo', values='dB')\n",
    "        df_pivot.columns = [f'dB{col}' for col in df_pivot.columns]\n",
    "        df_pivot.reset_index(drop=True, inplace=True)\n",
    "        df_pivot.index.name = 'Indice'\n",
    "        df_pivot['Frecuencia (Hz)'] = columna_frecuencia\n",
    "        df_pivot = df_pivot[['Frecuencia (Hz)'] + [col for col in df_pivot.columns if col != 'Frecuencia (Hz)']]\n",
    "        df_promedio = df_pivot.copy()\n",
    "        df_promedio['Promedio_dB'] = df_pivot.iloc[:, 1:].mean(axis=1)\n",
    "\n",
    "        df_promedio.to_csv(os.path.join(carpeta_entrada, archivo), index=False)\n",
    "\n",
    "        print(f\"Archivo '{archivo}' procesado y sobrescrito.\")\n",
    "\n",
    "print(\"Proceso de procesamiento y sobrescrita de grupos completado.\")\n"
   ]
  },
  {
   "cell_type": "markdown",
   "metadata": {},
   "source": [
    "# Filtrado (Elimina columnas intermedias, conserva primera columna(Frecuencia) y ultima columna (dB))"
   ]
  },
  {
   "cell_type": "code",
   "execution_count": null,
   "metadata": {},
   "outputs": [],
   "source": [
    "# elimina los datos restantes, conserva primera columna (Frecuencia) y ultima columna, promedio de frecuencias por muestra \n",
    "\n",
    "for archivo in archivos_csv:\n",
    "    ruta_completa = os.path.join(carpeta_entrada, archivo)\n",
    "\n",
    "    df = pd.read_csv(ruta_completa)\n",
    "\n",
    "    df = df.iloc[:, [0, -1]]\n",
    "\n",
    "    df = df.rename(columns={df.columns[-1]: 'dB'})\n",
    "    df.to_csv(ruta_completa, index=False)\n"
   ]
  },
  {
   "cell_type": "markdown",
   "metadata": {},
   "source": [
    "# Concatena los datos que pertenecen a la misma muestra"
   ]
  },
  {
   "cell_type": "code",
   "execution_count": null,
   "metadata": {},
   "outputs": [],
   "source": [
    "dataframes_por_muestra = {}\n",
    "\n",
    "for archivo in os.listdir(carpeta_entrada):\n",
    "    if archivo.endswith(\".csv\"):\n",
    "        nombre_muestra = archivo.split(\"_\")[1]\n",
    "        df = pd.read_csv(os.path.join(carpeta_entrada, archivo))\n",
    "\n",
    "        if nombre_muestra in dataframes_por_muestra:\n",
    "            dataframes_por_muestra[nombre_muestra] = pd.concat([dataframes_por_muestra[nombre_muestra], df], ignore_index=True)\n",
    "        else:\n",
    "            dataframes_por_muestra[nombre_muestra] = df\n",
    "\n",
    "# Elimina los archivos originales\n",
    "for archivo in os.listdir(carpeta_entrada):\n",
    "    if archivo.endswith(\".csv\"):\n",
    "        os.remove(os.path.join(carpeta_entrada, archivo))\n",
    "\n",
    "for nombre_muestra, df in dataframes_por_muestra.items():\n",
    "    archivo_salida = os.path.join(carpeta_entrada, f\"Muestra_{nombre_muestra}.csv\")\n",
    "    df.to_csv(archivo_salida, index=False, mode='w')  #\n"
   ]
  },
  {
   "cell_type": "markdown",
   "metadata": {},
   "source": [
    "# Asignación de frecuencias para cada muestra  "
   ]
  },
  {
   "cell_type": "code",
   "execution_count": null,
   "metadata": {},
   "outputs": [],
   "source": [
    "carpeta = r'C:\\Users\\dfgom\\OneDrive\\Escritorio\\USRP\\RFI_Captura\\Salida\\Muestras'  \n",
    "archivos_csv = [archivo for archivo in os.listdir(carpeta) if archivo.endswith('.csv')]\n",
    "\n",
    "BW_TEMP = 0\n",
    "MST_ANT = False\n",
    "\n",
    "# Procesar cada archivo CSV en la carpetax\n",
    "for archivo_csv in archivos_csv:\n",
    "    archivo_path = os.path.join(carpeta, archivo_csv)\n",
    "    data = pd.read_csv(archivo_path)\n",
    "\n",
    "    # Identificar las secuencias de frecuencias iguales\n",
    "    secuencias = data['Frecuencia (Hz)'].unique()\n",
    "    secuencias.sort() # organiza variable secuencias de menor a mayor\n",
    "\n",
    "    # Calcular el valor de BW\n",
    "    if len(secuencias) >= 2: # REVISA SI HAY OTRA FRECUENCIA \n",
    "        BW = (secuencias[1] - secuencias[0])\n",
    "        BW_TEMP = BW\n",
    "        MST_ANT = True\n",
    "        \n",
    "    elif (MST_ANT == True):\n",
    "        BW = BW_TEMP\n",
    "\n",
    "    else:               # si no no hubo una muestra anterior y no tiene un valor de BW lo tomara por defecto como 20M.\n",
    "        BW = 10000000\n",
    "\n",
    "    # Crear un nuevo DataFrame para los resultados\n",
    "    nuevo_df = pd.DataFrame(columns=['Frecuencia (Hz)', 'dB'])\n",
    "\n",
    "    # Calcular y agregar los nuevos valores de frecuencia \n",
    "    for secuencia in secuencias:\n",
    "        num_samples = (data['Frecuencia (Hz)'] == secuencia).sum()\n",
    "        \n",
    "        min_value = secuencia - (BW / 2)\n",
    "        max_value = secuencia + (BW / 2)\n",
    "\n",
    "        # Asegurar que num_samples sea al menos 2\n",
    "        if num_samples == 1:\n",
    "            num_samples = 2\n",
    "\n",
    "        incremento_frec = BW / (num_samples - 1)\n",
    "        nuevos_valores_frecuencia = min_value + np.arange(num_samples) * incremento_frec\n",
    "        nuevos_valores_frecuencia = pd.Series(nuevos_valores_frecuencia)\n",
    "        nuevos_valores_frecuencia.name = 'Frecuencia (Hz)'\n",
    "        nuevo_df = pd.concat([nuevo_df, pd.concat([nuevos_valores_frecuencia, data[data['Frecuencia (Hz)'] == secuencia]['dB'].reset_index(drop=True)], axis=1)], ignore_index=True)\n",
    "\n",
    "    # Ordenar el nuevo DataFrame por frecuencia\n",
    "    nuevo_df.sort_values(by=['Frecuencia (Hz)'], inplace=True)\n",
    "\n",
    "    # Reiniciar los índices del nuevo DataFrame\n",
    "    nuevo_df.reset_index(drop=True, inplace=True)\n",
    "\n",
    "    # Sobreescribir el archivo CSV original con los nuevos datos\n",
    "    nuevo_df.to_csv(archivo_path, index=False)\n",
    "\n",
    "    print(f'Archivo procesado y sobrescrito: {archivo_path}')\n",
    "    print (f\"BW: {BW} \")\n"
   ]
  },
  {
   "cell_type": "code",
   "execution_count": null,
   "metadata": {},
   "outputs": [],
   "source": [
    "carpeta_entrada = r'C:\\Users\\dfgom\\OneDrive\\Escritorio\\USRP\\RFI_Captura\\Salida\\Muestras'\n",
    "\n",
    "archivos = os.listdir(carpeta_entrada)\n",
    "\n",
    "for archivo in archivos:\n",
    "    if archivo.endswith('.csv'):\n",
    "        \n",
    "        archivo_completo = os.path.join(carpeta_entrada, archivo)\n",
    "        \n",
    "        df = pd.read_csv(archivo_completo)\n",
    "\n",
    "        result_data = []\n",
    "        \n",
    "        for freq in df['Frecuencia (Hz)'].unique():\n",
    "            # Filtra las filas que tienen el mismo valor en 'Frecuencia (Hz)'\n",
    "            filtered_rows = df[df['Frecuencia (Hz)'] == freq]\n",
    "            \n",
    "            avg_db = filtered_rows['dB'].mean()\n",
    "      \n",
    "            # Agrega una tupla con el valor de 'Frecuencia (Hz)' y el promedio 'dB' a la lista de resultados\n",
    "            result_data.append((freq, avg_db))\n",
    "        \n",
    "        result_df = pd.DataFrame(result_data, columns=['Frecuencia (Hz)', 'dB'])\n",
    "        \n",
    "        result_df.to_csv(archivo_completo, index=False)\n"
   ]
  },
  {
   "cell_type": "markdown",
   "metadata": {},
   "source": [
    "# Promedio "
   ]
  },
  {
   "cell_type": "code",
   "execution_count": null,
   "metadata": {},
   "outputs": [],
   "source": [
    "ruta_resultados = 'Resultados'\n",
    "\n",
    "# Obtener la lista de archivos CSV en el directorio\n",
    "archivos_csv = [archivo for archivo in os.listdir(carpeta_entrada) if archivo.endswith('.csv')]\n",
    "\n",
    "# Ordenar los archivos alfabéticamente\n",
    "archivos_csv.sort()\n",
    "\n",
    "# Verificar si hay al menos dos archivos CSV\n",
    "if len(archivos_csv) < 2:\n",
    "    print(\"Deben existir al menos dos archivos CSV en la carpeta para calcular promedios y máximos.\")\n",
    "else:\n",
    "    # Leer el primer archivo CSV para obtener el encabezado y comprobar si los archivos tienen el mismo tamaño\n",
    "    primer_archivo = pd.read_csv(os.path.join(carpeta_entrada, archivos_csv[0]))\n",
    "    num_filas = len(primer_archivo)\n",
    "\n",
    "    # Crear DataFrames para los promedios y máximos\n",
    "    promedios = primer_archivo.copy()\n",
    "    maximos = primer_archivo.copy()\n",
    "\n",
    "    for archivo_csv in archivos_csv[1:-1]:\n",
    "        ruta_archivo = os.path.join(carpeta_entrada, archivo_csv)\n",
    "        df = pd.read_csv(ruta_archivo)\n",
    "\n",
    "        # Comprobar si el DataFrame tiene el mismo tamaño que el primero\n",
    "        if len(df) != num_filas:\n",
    "            print(f\"El archivo {archivo_csv} no tiene el mismo tamaño que los archivos anteriores. Se omitirá.\")\n",
    "        else:\n",
    "            # Calcular el promedio y el máximo y agregarlos a los DataFrames de promedios y máximos\n",
    "            promedios['dB'] = promedios['dB'] + df['dB']\n",
    "            maximos['dB'] = maximos['dB'].combine_first(df['dB'])\n",
    "\n",
    "    # Calcular el promedio dividiendo la suma de dB por el número de archivos válidos\n",
    "    promedios['dB'] = promedios['dB'] / (len(archivos_csv) - 1)\n",
    "\n",
    "    # Comprobar si la carpeta de resultados existe, si no, crearla\n",
    "    if not os.path.exists(ruta_resultados):\n",
    "        os.makedirs(ruta_resultados)\n",
    "\n",
    "    # Guardar los DataFrames de promedios y máximos como archivos CSV\n",
    "    promedios.to_csv(os.path.join(ruta_resultados, 'promedios.csv'), index=False)\n",
    "    maximos.to_csv(os.path.join(ruta_resultados, 'maximos.csv'), index=False)\n",
    "\n",
    "    print(\"Los resultados se han guardado en la carpeta 'Resultados'.\")"
   ]
  }
 ],
 "metadata": {
  "kernelspec": {
   "display_name": "base",
   "language": "python",
   "name": "python3"
  },
  "language_info": {
   "codemirror_mode": {
    "name": "ipython",
    "version": 3
   },
   "file_extension": ".py",
   "mimetype": "text/x-python",
   "name": "python",
   "nbconvert_exporter": "python",
   "pygments_lexer": "ipython3",
   "version": "3.11.5"
  }
 },
 "nbformat": 4,
 "nbformat_minor": 2
}
