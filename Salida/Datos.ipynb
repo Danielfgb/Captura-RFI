{
 "cells": [
  {
   "cell_type": "code",
   "execution_count": null,
   "metadata": {},
   "outputs": [],
   "source": [
    "import pandas as pd\n",
    "import matplotlib.pyplot as plt\n",
    "from matplotlib.animation import FuncAnimation\n",
    "import numpy as np\n",
    "import os\n"
   ]
  },
  {
   "cell_type": "code",
   "execution_count": null,
   "metadata": {},
   "outputs": [],
   "source": [
    "Carga_Datos = pd.read_csv(r\"C:\\Users\\dfgom\\OneDrive\\Escritorio\\USRP\\RFI_Captura\\Salida\\CSV_Salida.csv\")"
   ]
  },
  {
   "cell_type": "markdown",
   "metadata": {},
   "source": [
    "### Datos temporales para pruebas \n"
   ]
  },
  {
   "cell_type": "code",
   "execution_count": null,
   "metadata": {},
   "outputs": [],
   "source": [
    "# datos para las pruebas:\n",
    "# data = {'Frecuencia (Hz)': [90000000.0, 90000000.0, 90000000.0, 130000000.0, 130000000.0, 130000000.0, 130000000.0, 130000000.0, 110000000.0, 110000000.0, 110000000.0, 110000000.0, 170000000.0, 170000000.0, 170000000.0, 150000000.0, 150000000.0, 190000000.0, 190000000.0, 190000000.0, 90000000.0, 90000000.0, 90000000.0, 90000000.0],\n",
    "#         'dB': [50, 25, 36, 26, 27, 26, 98, 27, 23, 46, 93, 68, 126, 30, 129, 119, 69, 114, 89, 69, 63, 27, 96, 78]}\n",
    "\n",
    "data = {\n",
    "    'Frecuencia (Hz)': [90000000.0, 90000000.0, 90000000.0, 110000000.0, 110000000.0,\n",
    "                         110000000.0, 110000000.0, 130000000.0, 130000000.0, 130000000.0,\n",
    "                         130000000.0, 130000000.0, 150000000.0, 150000000.0, 170000000.0,\n",
    "                         170000000.0, 170000000.0, 190000000.0, 190000000.0, 190000000.0,\n",
    "                         90000000.0, 90000000.0, 90000000.0, 90000000.0, 110000000.0, 110000000.0,\n",
    "                         130000000.0, 150000000.0, 150000000.0,170000000.0, 190000000.0, 190000000.0, 90000000.0,90000000.0,90000000.0],\n",
    "    'dB': [50, 25, 36, 26, 27, 26, 98, 27, 23, 46, 93, 68, 126, 30, 129, 119, 69, 114, 89, 69, 63, 27, 96, 78, 98,77,88,99, 27,-11,-22,-33,-5555,-1111,-2222]\n",
    "}\n",
    "\n",
    "Carga_Datos = pd.DataFrame(data)\n",
    "print(Carga_Datos)"
   ]
  },
  {
   "cell_type": "markdown",
   "metadata": {},
   "source": [
    "###  Borra los primeros datos con caracteres vacíos o nulos  \n",
    "\n",
    "|Frecuencia (Hz)|        dB        |\n",
    "|---------------|------------------|\n",
    "|    nan        |-101.9620361328125|\n"
   ]
  },
  {
   "cell_type": "code",
   "execution_count": null,
   "metadata": {},
   "outputs": [],
   "source": [
    "Carga_Datos= Carga_Datos.dropna(subset=['Frecuencia (Hz)'])\n",
    "# print(Carga_Datos['Frecuencia (Hz)'].mean())"
   ]
  },
  {
   "cell_type": "markdown",
   "metadata": {},
   "source": [
    "### Cantidad total de datos por cada frecuencia     \n"
   ]
  },
  {
   "cell_type": "code",
   "execution_count": null,
   "metadata": {},
   "outputs": [],
   "source": [
    "conteo_frecuencia = Carga_Datos['Frecuencia (Hz)'].value_counts()\n",
    "print(conteo_frecuencia)"
   ]
  },
  {
   "cell_type": "markdown",
   "metadata": {},
   "source": [
    "### Separación de muestras por cada frecuencia  "
   ]
  },
  {
   "cell_type": "code",
   "execution_count": null,
   "metadata": {},
   "outputs": [],
   "source": [
    "recuentos_por_muestra = {}\n",
    "\n",
    "# Convertir la columna 'Frecuencia (Hz)' en un arreglo NumPy\n",
    "frecuencias = Carga_Datos['Frecuencia (Hz)'].values\n",
    "\n",
    "# Inicializar variables para llevar el seguimiento de la muestra actual y el conteo actual\n",
    "muestra_actual = None\n",
    "conteo_actual = 0\n",
    "\n",
    "for frecuencia in frecuencias:\n",
    "    if muestra_actual is None:\n",
    "        muestra_actual = frecuencia\n",
    "        conteo_actual = 1\n",
    "    elif muestra_actual == frecuencia:\n",
    "        conteo_actual += 1\n",
    "    else:\n",
    "        if muestra_actual not in recuentos_por_muestra:\n",
    "            recuentos_por_muestra[muestra_actual] = []\n",
    "        recuentos_por_muestra[muestra_actual].append(conteo_actual)\n",
    "        \n",
    "        muestra_actual = frecuencia\n",
    "        conteo_actual = 1\n",
    "\n",
    "# Agregar el último conjunto de conteos a la salida\n",
    "if muestra_actual is not None:\n",
    "    if muestra_actual not in recuentos_por_muestra:\n",
    "        recuentos_por_muestra[muestra_actual] = []\n",
    "    recuentos_por_muestra[muestra_actual].append(conteo_actual)\n",
    "\n",
    "for muestra, conteos in recuentos_por_muestra.items():\n",
    "    print(f'Frecuencia: {muestra} - Conteos: {\", \".join(map(str, conteos))}')"
   ]
  },
  {
   "cell_type": "markdown",
   "metadata": {},
   "source": [
    "#  Tratado de datos "
   ]
  },
  {
   "cell_type": "markdown",
   "metadata": {},
   "source": [
    "### --------------------------------------------------------------------------------------------------------------------------------------------------------\n",
    "\n",
    "Para poder tratar los datos se dividen por grupos esos hacen referencia a las muestras que se toman, para posteriormente sacar el promedio de estos y el los máximos "
   ]
  },
  {
   "cell_type": "code",
   "execution_count": null,
   "metadata": {},
   "outputs": [],
   "source": [
    "def dividir_y_guardar_grupos(Carga_Datos, carpeta_salida):\n",
    "    grupos = []\n",
    "    grupo_actual = None\n",
    "    cambios = np.where(Carga_Datos['Frecuencia (Hz)'].values[:-1] > Carga_Datos['Frecuencia (Hz)'].values[1:])[0]\n",
    "\n",
    "    inicio = 0\n",
    "    for cambio in cambios:\n",
    "        grupo_actual = Carga_Datos.iloc[inicio:cambio + 1]\n",
    "        grupos.append(grupo_actual)\n",
    "        inicio = cambio + 1\n",
    "\n",
    "    grupo_actual = Carga_Datos.iloc[inicio:]\n",
    "    grupos.append(grupo_actual)\n",
    "\n",
    "    # Crear la carpeta de salida si no existe\n",
    "    if not os.path.exists(carpeta_salida):\n",
    "        os.makedirs(carpeta_salida)\n",
    "\n",
    "    # Guardar los grupos en archivos CSV\n",
    "    for i, grupo in enumerate(grupos):\n",
    "        nombre_archivo = os.path.join(carpeta_salida, f'Muestra_{i + 1}.csv')\n",
    "        grupo.to_csv(nombre_archivo, index=False)\n",
    "        print(f\"Grupo {i + 1} guardado en '{nombre_archivo}'\")\n",
    "\n",
    "carpeta_muestras = 'Muestras'\n",
    "dividir_y_guardar_grupos(Carga_Datos, carpeta_muestras)\n"
   ]
  },
  {
   "cell_type": "markdown",
   "metadata": {},
   "source": [
    "# Tratado de las muestras \n",
    "\n",
    "Asignación de las frecuencias para cada muestra, teniendo en cuenta el ancho de banda \n",
    "\n",
    "Frec_max-Frec_min/cont_frec-1\n"
   ]
  },
  {
   "cell_type": "code",
   "execution_count": null,
   "metadata": {},
   "outputs": [],
   "source": [
    "carpeta = r'C:\\Users\\dfgom\\OneDrive\\Escritorio\\USRP\\RFI_Captura\\Salida\\Muestras'  \n",
    "archivos_csv = [archivo for archivo in os.listdir(carpeta) if archivo.endswith('.csv')]\n",
    "\n",
    "BW_TEMP = 0\n",
    "MST_ANT = False\n",
    "\n",
    "# Procesar cada archivo CSV en la carpeta\n",
    "for archivo_csv in archivos_csv:\n",
    "    archivo_path = os.path.join(carpeta, archivo_csv)\n",
    "    data = pd.read_csv(archivo_path)\n",
    "\n",
    "    # Identificar las secuencias de frecuencias iguales\n",
    "    secuencias = data['Frecuencia (Hz)'].unique()\n",
    "\n",
    "    # Calcular el valor de BW\n",
    "    if len(secuencias) >= 2: # REVISA SI HAY OTRA FRECUENCIA \n",
    "        BW = (secuencias[1] - secuencias[0])\n",
    "        BW_TEMP = BW\n",
    "        MST_ANT = True\n",
    "        \n",
    "    elif (MST_ANT == True):\n",
    "        BW = BW_TEMP\n",
    "\n",
    "    else:               # si no no hubo una muestra anterior y no tiene un valor de BW lo tomara por defecto como 20M.\n",
    "        BW = 20000000\n",
    "\n",
    "    # Crear un nuevo DataFrame para los resultados\n",
    "    nuevo_df = pd.DataFrame(columns=['Frecuencia (Hz)', 'dB'])\n",
    "\n",
    "    # Calcular y agregar los nuevos valores de frecuencia \n",
    "    for secuencia in secuencias:\n",
    "        num_samples = (data['Frecuencia (Hz)'] == secuencia).sum()\n",
    "        \n",
    "        min_value = secuencia - (BW / 2)\n",
    "        max_value = secuencia + (BW / 2)\n",
    "\n",
    "        # Asegurar que num_samples sea al menos 2\n",
    "        if num_samples == 1:\n",
    "            num_samples = 2\n",
    "\n",
    "        incremento_frec = BW / (num_samples - 1)\n",
    "        nuevos_valores_frecuencia = min_value + np.arange(num_samples) * incremento_frec\n",
    "        nuevos_valores_frecuencia = pd.Series(nuevos_valores_frecuencia)\n",
    "        nuevos_valores_frecuencia.name = 'Frecuencia (Hz)'\n",
    "        nuevo_df = pd.concat([nuevo_df, pd.concat([nuevos_valores_frecuencia, data[data['Frecuencia (Hz)'] == secuencia]['dB'].reset_index(drop=True)], axis=1)], ignore_index=True)\n",
    "\n",
    "    # Ordenar el nuevo DataFrame por frecuencia\n",
    "    nuevo_df.sort_values(by=['Frecuencia (Hz)'], inplace=True)\n",
    "\n",
    "    # Reiniciar los índices del nuevo DataFrame\n",
    "    nuevo_df.reset_index(drop=True, inplace=True)\n",
    "\n",
    "    # Sobreescribir el archivo CSV original con los nuevos datos\n",
    "    nuevo_df.to_csv(archivo_path, index=False)\n",
    "\n",
    "    print(f'Archivo procesado y sobrescrito: {archivo_path}')\n"
   ]
  },
  {
   "cell_type": "markdown",
   "metadata": {},
   "source": [
    "# Filtrado de datos "
   ]
  },
  {
   "cell_type": "markdown",
   "metadata": {},
   "source": [
    "Promedio y máximos unificado de todas las muestras "
   ]
  },
  {
   "cell_type": "code",
   "execution_count": null,
   "metadata": {},
   "outputs": [],
   "source": [
    "\n",
    "# Ruta de la carpeta de muestras\n",
    "carpeta_archivos = r'C:\\Users\\dfgom\\OneDrive\\Escritorio\\USRP\\RFI_Captura\\Salida\\Muestras'\n",
    "\n",
    "# Obtiene la ruta del directorio anterior\n",
    "directorio= os.path.dirname(carpeta_archivos)\n",
    "\n",
    "# Carpeta para guardar los resultados\n",
    "carpeta_resultados = os.path.join(directorio, 'Resultados')\n",
    "\n",
    "# Verifica si la carpeta ya existe, y si no, créala\n",
    "if not os.path.exists(carpeta_resultados):\n",
    "    os.makedirs(carpeta_resultados)\n",
    "\n",
    "# Tolerancia para realizar el análisis de los datos \n",
    "tolerancia = 1000\n",
    "\n",
    "# Función para procesar un archivo CSV y obtener el promedio de dB dentro de la tolerancia\n",
    "def procesar_archivo(archivo):\n",
    "    data = pd.read_csv(archivo)\n",
    "    frecuencia = data['Frecuencia (Hz)'].values\n",
    "    db = data['dB'].values\n",
    "    promedios = []\n",
    "    maximos = []\n",
    "    \n",
    "\n",
    "    inicio = 0\n",
    "    fin = 0\n",
    "    \n",
    "    for i in range(len(frecuencia)):\n",
    "        if frecuencia[i] <= frecuencia[inicio] + tolerancia:\n",
    "            fin = i\n",
    "        else:\n",
    "            # Calcula el promedio y máximo dentro de la tolerancia\n",
    "            promedio = np.mean(db[inicio:fin+1])\n",
    "            maximo = np.max(db[inicio:fin+1])\n",
    "            promedios.append([frecuencia[inicio], promedio])\n",
    "            maximos.append([frecuencia[inicio], maximo])\n",
    "            \n",
    "            # Actualiza el inicio y fin para el siguiente rango\n",
    "            inicio = i\n",
    "            fin = i\n",
    "    \n",
    "    # Agrega el último rango\n",
    "    promedio = np.mean(db[inicio:])\n",
    "    maximo = np.max(db[inicio:])\n",
    "    promedios.append([frecuencia[inicio], promedio])\n",
    "    maximos.append([frecuencia[inicio], maximo])\n",
    "    \n",
    "    return pd.DataFrame(promedios, columns=['Frecuencia (Hz)', 'Promedio (dB)']), pd.DataFrame(maximos, columns=['Frecuencia (Hz)', 'Máximo (dB)'])\n",
    "\n",
    "# Obtiene la lista de archivos en la carpeta\n",
    "archivos = [os.path.join(carpeta_archivos, archivo) for archivo in os.listdir(carpeta_archivos) if archivo.endswith('.csv')]\n",
    "archivos.sort()\n",
    "\n",
    "promedio_acumulado = pd.DataFrame(columns=['Frecuencia (Hz)', 'Promedio (dB)'])\n",
    "maximo_acumulado = pd.DataFrame(columns=['Frecuencia (Hz)', 'Máximo (dB)'])\n",
    "\n",
    "for archivo in archivos[:-1]:\n",
    "    promedio, maximo = procesar_archivo(archivo)\n",
    "    \n",
    "    # Combina los resultados con el promedio acumulado\n",
    "    promedio_acumulado = pd.concat([promedio_acumulado, promedio], ignore_index=True)\n",
    "    maximo_acumulado = pd.concat([maximo_acumulado, maximo], ignore_index=True)\n",
    "\n",
    "# Calcula el promedio final\n",
    "promedio_final = promedio_acumulado.groupby('Frecuencia (Hz)').mean().reset_index()\n",
    "maximo_final = maximo_acumulado.groupby('Frecuencia (Hz)').max().reset_index()\n",
    "\n",
    "# Ruta para guardar los archivos en la carpeta \"Resultados\"\n",
    "ruta_promedio_final = os.path.join(carpeta_resultados, 'promedio_final.csv')\n",
    "ruta_maximo_final = os.path.join(carpeta_resultados, 'maximo_final.csv')\n",
    "\n",
    "# Guarda los resultados en dos archivos CSV separados en la carpeta \"Resultados\"\n",
    "promedio_final.to_csv(ruta_promedio_final, index=False)\n",
    "maximo_final.to_csv(ruta_maximo_final, index=False)\n"
   ]
  },
  {
   "cell_type": "markdown",
   "metadata": {},
   "source": [
    "Promedio de las muestras por individual"
   ]
  },
  {
   "cell_type": "code",
   "execution_count": null,
   "metadata": {},
   "outputs": [],
   "source": [
    "\n",
    "carpeta_datos = r\"C:\\Users\\dfgom\\OneDrive\\Escritorio\\USRP\\RFI_Captura\\Salida\\Muestras\"\n",
    "\n",
    "carpeta_resultados = r\"C:\\Users\\dfgom\\OneDrive\\Escritorio\\USRP\\RFI_Captura\\Salida\\Resultados\"\n",
    "\n",
    "carpeta_tratadas = os.path.join(carpeta_resultados, \"Muestra_Promediadas\") \n",
    "os.makedirs(carpeta_tratadas, exist_ok=True)\n",
    "\n",
    "archivos_csv = [archivo for archivo in os.listdir(carpeta_datos) if archivo.endswith(\".csv\")]\n",
    "\n",
    "# Función para promediar los datos en grupos \n",
    "def promediar_en_grupos(datos):\n",
    "    grupos_promediados = []\n",
    "    grupo_actual = []\n",
    "    for i, fila in enumerate(datos):\n",
    "        grupo_actual.append(fila)\n",
    "        if (i + 1) % 10 == 0:\n",
    "            promedio_grupo = [sum(col) / len(col) for col in zip(*grupo_actual)]\n",
    "            grupos_promediados.append(promedio_grupo)\n",
    "            grupo_actual = []\n",
    "    if grupo_actual:\n",
    "        promedio_grupo = [sum(col) / len(col) for col in zip(*grupo_actual)]\n",
    "        grupos_promediados.append(promedio_grupo)\n",
    "    return grupos_promediados\n",
    "\n",
    "for archivo_csv in archivos_csv:\n",
    "    # Leer el archivo CSV\n",
    "    ruta_csv = os.path.join(carpeta_datos, archivo_csv)\n",
    "    df = pd.read_csv(ruta_csv)\n",
    "\n",
    "    # Promediar ambas columnas en grupos y crear un nuevo DataFrame\n",
    "    grupos_promediados = promediar_en_grupos(df.values)\n",
    "    df_promediado = pd.DataFrame(grupos_promediados, columns=[\"Promedio_Frecuencia (Hz)\", \"Promedio_dB\"])\n",
    "\n",
    "    # Generar el nombre del archivo filtrado\n",
    "    nombre_filtrado = os.path.splitext(archivo_csv)[0] + \"_filtrado.csv\"\n",
    "    ruta_filtrado = os.path.join(carpeta_tratadas, nombre_filtrado)\n",
    "\n",
    "    df_promediado.to_csv(ruta_filtrado, index=False)\n",
    "\n",
    "print(\"Archivos filtrados y promediados guardados en la carpeta 'Muestra_tratadas'.\")"
   ]
  },
  {
   "cell_type": "markdown",
   "metadata": {},
   "source": [
    "# Genera los plots de las muestras por separado \n",
    "\n",
    "Toma las muestras generadas y gráfica cada una de ellas por grupos de 1000 datos para que sea visibles"
   ]
  },
  {
   "cell_type": "code",
   "execution_count": null,
   "metadata": {},
   "outputs": [],
   "source": [
    "carpeta_datos = r\"C:\\Users\\dfgom\\OneDrive\\Escritorio\\USRP\\RFI_Captura\\Salida\\Muestras\"\n",
    "\n",
    "# Crear la carpeta 'plots' si no existe\n",
    "carpeta_plots = os.path.join(carpeta_datos, \"plots\")\n",
    "os.makedirs(carpeta_plots, exist_ok=True)\n",
    "\n",
    "# Lista de archivos CSV en la carpeta de datos\n",
    "archivos_csv = [archivo for archivo in os.listdir(carpeta_datos) if archivo.endswith(\".csv\")]\n",
    "\n",
    "# Función para dividir los datos en grupos de 2000\n",
    "def dividir_en_grupos(datos):\n",
    "    grupos = []\n",
    "    grupo_actual = []\n",
    "    for i, fila in enumerate(datos):\n",
    "        grupo_actual.append(fila)\n",
    "        if (i + 1) % 1000 == 0:\n",
    "            grupos.append(grupo_actual)\n",
    "            grupo_actual = []\n",
    "    if grupo_actual:\n",
    "        grupos.append(grupo_actual)\n",
    "    return grupos\n",
    "\n",
    "# Procesar cada archivo CSV\n",
    "for archivo_csv in archivos_csv:\n",
    "    # Leer el archivo CSV\n",
    "    ruta_csv = os.path.join(carpeta_datos, archivo_csv)\n",
    "    df = pd.read_csv(ruta_csv)\n",
    "\n",
    "    # Dividir los datos en grupos de 2000\n",
    "    grupos = dividir_en_grupos(df.values)\n",
    "\n",
    "    # Generar y guardar los gráficos para cada grupo\n",
    "    for i, grupo in enumerate(grupos):\n",
    "        plt.figure(figsize=(18, 8))\n",
    "        x = [fila[0] for fila in grupo]\n",
    "        y = [fila[1] for fila in grupo]\n",
    "        plt.plot(x, y)\n",
    "        plt.xlabel(\"Frecuencia (Hz)\")\n",
    "        plt.ylabel(\"dB\")\n",
    "        plt.title(f\"Gráfico {i + 1} - {archivo_csv}\")\n",
    "        ruta_plot = os.path.join(carpeta_plots, f\"{archivo_csv}_{i + 1}.png\")\n",
    "        plt.savefig(ruta_plot)\n",
    "        plt.close()\n",
    "\n",
    "print(\"Gráficos generados y guardados en la carpeta 'plots'.\")"
   ]
  },
  {
   "cell_type": "markdown",
   "metadata": {},
   "source": [
    "# Grafica individual \n",
    "\n"
   ]
  },
  {
   "cell_type": "code",
   "execution_count": null,
   "metadata": {},
   "outputs": [],
   "source": [
    "# Leer el archivo CSV con los datos\n",
    "archivo_csv = r'C:\\Users\\dfgom\\OneDrive\\Escritorio\\USRP\\RFI_Captura\\Salida\\Resultados\\promedio_final.csv'\n",
    "df = pd.read_csv(archivo_csv)\n",
    "\n",
    "# Extraer las columnas de frecuencia y promedio\n",
    "frecuencia = df['Frecuencia (Hz)'].to_numpy()\n",
    "promedio = df['Promedio (dB)'].to_numpy()\n",
    "\n",
    "plt.figure(figsize=(18, 8))\n",
    "plt.plot(frecuencia, promedio, marker='', linestyle='-')  \n",
    "\n",
    "# Configurar etiquetas y título\n",
    "plt.xlabel('Frecuencia (Hz)')\n",
    "plt.ylabel('Promedio (dB)')\n",
    "plt.title('Promedio Total por Intervalo de Frecuencia')\n",
    "\n",
    "# Mostrar el gráfico\n",
    "plt.xticks(rotation=45)\n",
    "plt.grid(True)  # Agrega una cuadrícula para mayor claridad\n",
    "plt.tight_layout()\n",
    "plt.show()"
   ]
  },
  {
   "cell_type": "markdown",
   "metadata": {},
   "source": [
    "# Setpoint en base al valor promedio genera csv con valores que max que sobrepasaron el setpoint\n"
   ]
  },
  {
   "cell_type": "markdown",
   "metadata": {},
   "source": [
    "### máximos partiendo de setpoint para un único archivo, promedio de todas las muestras        "
   ]
  },
  {
   "cell_type": "code",
   "execution_count": null,
   "metadata": {},
   "outputs": [],
   "source": [
    "def Setpoint_Max(archivo_csv, Setpoint,carpeta_resultados):\n",
    "    data = pd.read_csv(archivo_csv)\n",
    "    encabezados = data.columns\n",
    "    promedio_segunda_columna = data.iloc[:, 1].mean()\n",
    "    setpoint = promedio_segunda_columna + Setpoint  \n",
    "    valores_superan_setpoint = data[data.iloc[:, 1] > setpoint]\n",
    "\n",
    "\n",
    "    nombre_original_sin_extension = os.path.splitext(os.path.basename(archivo_csv))[0]\n",
    "\n",
    "    nombre_salida = f\"{nombre_original_sin_extension}_Setpoint_Max.csv\"\n",
    "\n",
    "    if not os.path.exists(carpeta_resultados):\n",
    "        os.makedirs(carpeta_resultados)\n",
    "\n",
    "    ruta_salida = os.path.join(carpeta_resultados, nombre_salida)\n",
    "    valores_superan_setpoint.to_csv(ruta_salida, index=False)\n",
    "    \n",
    "    print(f\"Valor promedio dB {nombre_original_sin_extension}: {promedio_segunda_columna} dB\")\n",
    "    print(f\"Valor Setpoint para {nombre_original_sin_extension}: {setpoint} dB\")\n",
    "    print(f\"El archivo de resultados se ha guardado en: {ruta_salida}\")\n",
    "\n",
    "\n",
    "archivo_csv = r\"C:\\Users\\dfgom\\OneDrive\\Escritorio\\USRP\\RFI_Captura\\Salida\\Resultados\\promedio_final.csv\"  \n",
    "carpeta_resultados = r\"C:\\Users\\dfgom\\OneDrive\\Escritorio\\USRP\\RFI_Captura\\Salida\\Resultados\"\n",
    "Setpoint = 20 \n",
    "\n",
    "Setpoint_Max(archivo_csv, Setpoint ,carpeta_resultados)\n"
   ]
  },
  {
   "cell_type": "markdown",
   "metadata": {},
   "source": [
    "### maximos partiendo de setpoint para toda la carpeta de muestras "
   ]
  },
  {
   "cell_type": "code",
   "execution_count": null,
   "metadata": {},
   "outputs": [],
   "source": [
    "def procesar_archivos_en_carpeta(carpeta_entrada, carpeta_resultados,Setpoint ):\n",
    "    archivos_csv = [f for f in os.listdir(carpeta_entrada) if f.endswith('.csv')]\n",
    "    \n",
    "    for archivo in archivos_csv:\n",
    "        archivo_csv = os.path.join(carpeta_entrada, archivo)\n",
    "        data = pd.read_csv(archivo_csv)\n",
    "        encabezados = data.columns\n",
    "\n",
    "        promedio_segunda_columna = data.iloc[:, 1].mean()\n",
    "        setpoint = promedio_segunda_columna + Setpoint \n",
    "\n",
    "        valores_superan_setpoint = data[data.iloc[:, 1] > setpoint]\n",
    "\n",
    "        nombre_original_sin_extension = os.path.splitext(os.path.basename(archivo_csv))[0]\n",
    "        nombre_salida = f\"{nombre_original_sin_extension}_Setpoint_Max.csv\"\n",
    "\n",
    "        if not os.path.exists(carpeta_resultados):\n",
    "            os.makedirs(carpeta_resultados)\n",
    "\n",
    "        ruta_salida = os.path.join(carpeta_resultados, nombre_salida)\n",
    "        valores_superan_setpoint.to_csv(ruta_salida, index=False)\n",
    "\n",
    "        print(f\"Valor promedio dB {archivo}: {promedio_segunda_columna} dB\")\n",
    "        print(f\"Valor Setpoint para {archivo}: {setpoint} dB\")\n",
    "        print(f\"El archivo de resultados se ha guardado en: {ruta_salida}\")\n",
    "\n",
    "carpeta_entrada = r\"C:\\Users\\dfgom\\OneDrive\\Escritorio\\USRP\\RFI_Captura\\Salida\\Muestras\"\n",
    "carpeta_resultados = r\"C:\\Users\\dfgom\\OneDrive\\Escritorio\\USRP\\RFI_Captura\\Salida\\Resultados\"\n",
    "Setpoint = 20 \n",
    "\n",
    "procesar_archivos_en_carpeta(carpeta_entrada, carpeta_resultados,Setpoint)"
   ]
  },
  {
   "cell_type": "markdown",
   "metadata": {},
   "source": [
    "# pruebas"
   ]
  },
  {
   "cell_type": "code",
   "execution_count": null,
   "metadata": {},
   "outputs": [],
   "source": [
    "import matplotlib.pyplot as plt\n",
    "import pandas as pd\n",
    "\n",
    "# Cargar datos de los dos archivos CSV\n",
    "data1 = pd.read_csv(r'C:\\Users\\dfgom\\OneDrive\\Escritorio\\USRP\\RFI_Captura\\Salida\\Muestras\\Muestra_1.csv')\n",
    "data2 = pd.read_csv(r\"C:\\Users\\dfgom\\OneDrive\\Escritorio\\USRP\\RFI_Captura\\Salida\\Resultados\\Muestra_1_Setpoint_Max.csv\")\n",
    "\n",
    "encabezado1 = data1.columns\n",
    "encabezado2 = data2.columns\n",
    "\n",
    "# Extraer las columnas de interés de cada archivo (por ejemplo, 'x' y 'y')\n",
    "x1, y1 = data1[encabezado1[0]], data1[encabezado1[1]]\n",
    "x2, y2 = data2[encabezado2[0]], data2[encabezado1[1]]\n",
    "\n",
    "fig, ax = plt.subplots()\n",
    "\n",
    "# Graficar los datos del primer archivo CSV (por ejemplo, como una línea)\n",
    "ax.plot(x1, y1, label='Archivo 1 - Línea')\n",
    "\n",
    "# Graficar los datos del segundo archivo CSV (por ejemplo, como puntos)\n",
    "scatter = ax.scatter(x2, y2, color='red', marker='o', label='Archivo 2 - Puntos')\n",
    "\n",
    "# Personalizar etiquetas\n",
    "ax.set_xlabel(encabezado1[0])\n",
    "ax.set_ylabel(encabezado1[1])\n",
    "\n",
    "# Agregar una leyenda\n",
    "ax.legend()\n",
    "\n",
    "# Mostrar el gráfico\n",
    "plt.show()"
   ]
  }
 ],
 "metadata": {
  "kernelspec": {
   "display_name": "base",
   "language": "python",
   "name": "python3"
  },
  "language_info": {
   "codemirror_mode": {
    "name": "ipython",
    "version": 3
   },
   "file_extension": ".py",
   "mimetype": "text/x-python",
   "name": "python",
   "nbconvert_exporter": "python",
   "pygments_lexer": "ipython3",
   "version": "3.8.0"
  },
  "orig_nbformat": 4
 },
 "nbformat": 4,
 "nbformat_minor": 2
}
