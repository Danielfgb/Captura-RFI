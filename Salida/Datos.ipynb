{
 "cells": [
  {
   "cell_type": "code",
   "execution_count": 12,
   "metadata": {},
   "outputs": [],
   "source": [
    "import pandas as pd\n",
    "import matplotlib.pyplot as plt\n",
    "from matplotlib.animation import FuncAnimation\n",
    "import numpy as np\n",
    "import os\n"
   ]
  },
  {
   "cell_type": "code",
   "execution_count": 5,
   "metadata": {},
   "outputs": [],
   "source": [
    "Carga_Datos = pd.read_csv(r\"C:\\Users\\dfgom\\OneDrive\\Escritorio\\USRP\\RFI_Captura\\Salida\\outputprueba2.csv\")"
   ]
  },
  {
   "cell_type": "markdown",
   "metadata": {},
   "source": [
    "### Datos temporales para pruebas \n"
   ]
  },
  {
   "cell_type": "code",
   "execution_count": null,
   "metadata": {},
   "outputs": [],
   "source": [
    "# datos para las pruebas:\n",
    "# data = {'Frecuencia (Hz)': [90000000.0, 90000000.0, 90000000.0, 130000000.0, 130000000.0, 130000000.0, 130000000.0, 130000000.0, 110000000.0, 110000000.0, 110000000.0, 110000000.0, 170000000.0, 170000000.0, 170000000.0, 150000000.0, 150000000.0, 190000000.0, 190000000.0, 190000000.0, 90000000.0, 90000000.0, 90000000.0, 90000000.0],\n",
    "#         'dB': [50, 25, 36, 26, 27, 26, 98, 27, 23, 46, 93, 68, 126, 30, 129, 119, 69, 114, 89, 69, 63, 27, 96, 78]}\n",
    "\n",
    "data = {\n",
    "    'Frecuencia (Hz)': [90000000.0, 90000000.0, 90000000.0, 110000000.0, 110000000.0,\n",
    "                         110000000.0, 110000000.0, 130000000.0, 130000000.0, 130000000.0,\n",
    "                         130000000.0, 130000000.0, 150000000.0, 150000000.0, 170000000.0,\n",
    "                         170000000.0, 170000000.0, 190000000.0, 190000000.0, 190000000.0,\n",
    "                         90000000.0, 90000000.0, 90000000.0, 90000000.0, 110000000.0, 110000000.0,\n",
    "                         130000000.0, 150000000.0, 150000000.0,170000000.0, 190000000.0, 190000000.0, 90000000.0,90000000.0,90000000.0],\n",
    "    'dB': [50, 25, 36, 26, 27, 26, 98, 27, 23, 46, 93, 68, 126, 30, 129, 119, 69, 114, 89, 69, 63, 27, 96, 78, 98,77,88,99, 27,-11,-22,-33,-5555,-1111,-2222]\n",
    "}\n",
    "\n",
    "Carga_Datos = pd.DataFrame(data)\n",
    "print(Carga_Datos)"
   ]
  },
  {
   "cell_type": "markdown",
   "metadata": {},
   "source": [
    "###  Borra los primeros datos con caracteres vacíos o nulos  \n",
    "\n",
    "|Frecuencia (Hz)|        dB        |\n",
    "|---------------|------------------|\n",
    "|    nan        |-101.9620361328125|\n"
   ]
  },
  {
   "cell_type": "code",
   "execution_count": 6,
   "metadata": {},
   "outputs": [],
   "source": [
    "Carga_Datos= Carga_Datos.dropna(subset=['Frecuencia (Hz)'])\n",
    "# print(Carga_Datos['Frecuencia (Hz)'].mean())"
   ]
  },
  {
   "cell_type": "markdown",
   "metadata": {},
   "source": [
    "### Cantidad total de datos por cada frecuencia     \n"
   ]
  },
  {
   "cell_type": "code",
   "execution_count": 7,
   "metadata": {},
   "outputs": [
    {
     "name": "stdout",
     "output_type": "stream",
     "text": [
      "Frecuencia (Hz)\n",
      "90000000.0     245760\n",
      "130000000.0    221184\n",
      "150000000.0    221184\n",
      "190000000.0    212992\n",
      "110000000.0    204800\n",
      "170000000.0    172032\n",
      "Name: count, dtype: int64\n"
     ]
    }
   ],
   "source": [
    "conteo_frecuencia = Carga_Datos['Frecuencia (Hz)'].value_counts()\n",
    "print(conteo_frecuencia)"
   ]
  },
  {
   "cell_type": "markdown",
   "metadata": {},
   "source": [
    "### Separación de muestras por cada frecuencia  "
   ]
  },
  {
   "cell_type": "code",
   "execution_count": 8,
   "metadata": {},
   "outputs": [
    {
     "name": "stdout",
     "output_type": "stream",
     "text": [
      "Frecuencia: 90000000.0 - Conteos: 8192, 16384, 16384, 24576, 16384, 16384, 8192, 16384, 16384, 16384, 16384, 8192, 16384, 16384, 16384, 16384\n",
      "Frecuencia: 110000000.0 - Conteos: 8192, 8192, 8192, 16384, 16384, 8192, 16384, 8192, 16384, 16384, 16384, 16384, 16384, 16384, 8192, 8192\n",
      "Frecuencia: 130000000.0 - Conteos: 16384, 16384, 8192, 8192, 8192, 16384, 16384, 16384, 8192, 16384, 16384, 16384, 16384, 16384, 16384, 8192\n",
      "Frecuencia: 150000000.0 - Conteos: 8192, 16384, 8192, 16384, 16384, 16384, 16384, 16384, 8192, 16384, 16384, 16384, 16384, 16384, 16384\n",
      "Frecuencia: 170000000.0 - Conteos: 16384, 8192, 16384, 8192, 8192, 16384, 8192, 16384, 8192, 8192, 8192, 16384, 8192, 16384, 8192\n",
      "Frecuencia: 190000000.0 - Conteos: 16384, 16384, 8192, 16384, 8192, 16384, 16384, 8192, 16384, 16384, 16384, 8192, 16384, 16384, 16384\n"
     ]
    }
   ],
   "source": [
    "recuentos_por_muestra = {}\n",
    "\n",
    "# Convertir la columna 'Frecuencia (Hz)' en un arreglo NumPy\n",
    "frecuencias = Carga_Datos['Frecuencia (Hz)'].values\n",
    "\n",
    "# Inicializar variables para llevar el seguimiento de la muestra actual y el conteo actual\n",
    "muestra_actual = None\n",
    "conteo_actual = 0\n",
    "\n",
    "for frecuencia in frecuencias:\n",
    "    if muestra_actual is None:\n",
    "        muestra_actual = frecuencia\n",
    "        conteo_actual = 1\n",
    "    elif muestra_actual == frecuencia:\n",
    "        conteo_actual += 1\n",
    "    else:\n",
    "        if muestra_actual not in recuentos_por_muestra:\n",
    "            recuentos_por_muestra[muestra_actual] = []\n",
    "        recuentos_por_muestra[muestra_actual].append(conteo_actual)\n",
    "        \n",
    "        muestra_actual = frecuencia\n",
    "        conteo_actual = 1\n",
    "\n",
    "# Agregar el último conjunto de conteos a la salida\n",
    "if muestra_actual is not None:\n",
    "    if muestra_actual not in recuentos_por_muestra:\n",
    "        recuentos_por_muestra[muestra_actual] = []\n",
    "    recuentos_por_muestra[muestra_actual].append(conteo_actual)\n",
    "\n",
    "for muestra, conteos in recuentos_por_muestra.items():\n",
    "    print(f'Frecuencia: {muestra} - Conteos: {\", \".join(map(str, conteos))}')"
   ]
  },
  {
   "cell_type": "markdown",
   "metadata": {},
   "source": [
    "#  Tratado de datos "
   ]
  },
  {
   "cell_type": "markdown",
   "metadata": {},
   "source": [
    "### --------------------------------------------------------------------------------------------------------------------------------------------------------\n",
    "\n",
    "Para poder tratar los datos se dividen por grupos esos hacen referencia a las muestras que se toman, para posteriormente sacar el promedio de estos y el los máximos "
   ]
  },
  {
   "cell_type": "code",
   "execution_count": 9,
   "metadata": {},
   "outputs": [
    {
     "name": "stdout",
     "output_type": "stream",
     "text": [
      "Grupo 1 guardado en 'Muestras\\Muestra_1.csv'\n",
      "Grupo 2 guardado en 'Muestras\\Muestra_2.csv'\n",
      "Grupo 3 guardado en 'Muestras\\Muestra_3.csv'\n",
      "Grupo 4 guardado en 'Muestras\\Muestra_4.csv'\n",
      "Grupo 5 guardado en 'Muestras\\Muestra_5.csv'\n",
      "Grupo 6 guardado en 'Muestras\\Muestra_6.csv'\n",
      "Grupo 7 guardado en 'Muestras\\Muestra_7.csv'\n",
      "Grupo 8 guardado en 'Muestras\\Muestra_8.csv'\n",
      "Grupo 9 guardado en 'Muestras\\Muestra_9.csv'\n",
      "Grupo 10 guardado en 'Muestras\\Muestra_10.csv'\n",
      "Grupo 11 guardado en 'Muestras\\Muestra_11.csv'\n",
      "Grupo 12 guardado en 'Muestras\\Muestra_12.csv'\n",
      "Grupo 13 guardado en 'Muestras\\Muestra_13.csv'\n",
      "Grupo 14 guardado en 'Muestras\\Muestra_14.csv'\n",
      "Grupo 15 guardado en 'Muestras\\Muestra_15.csv'\n",
      "Grupo 16 guardado en 'Muestras\\Muestra_16.csv'\n"
     ]
    }
   ],
   "source": [
    "def dividir_y_guardar_grupos(Carga_Datos, carpeta_salida):\n",
    "    grupos = []\n",
    "    grupo_actual = None\n",
    "    cambios = np.where(Carga_Datos['Frecuencia (Hz)'].values[:-1] > Carga_Datos['Frecuencia (Hz)'].values[1:])[0]\n",
    "\n",
    "    inicio = 0\n",
    "    for cambio in cambios:\n",
    "        grupo_actual = Carga_Datos.iloc[inicio:cambio + 1]\n",
    "        grupos.append(grupo_actual)\n",
    "        inicio = cambio + 1\n",
    "\n",
    "    grupo_actual = Carga_Datos.iloc[inicio:]\n",
    "    grupos.append(grupo_actual)\n",
    "\n",
    "    # Crear la carpeta de salida si no existe\n",
    "    if not os.path.exists(carpeta_salida):\n",
    "        os.makedirs(carpeta_salida)\n",
    "\n",
    "    # Guardar los grupos en archivos CSV\n",
    "    for i, grupo in enumerate(grupos):\n",
    "        nombre_archivo = os.path.join(carpeta_salida, f'Muestra_{i + 1}.csv')\n",
    "        grupo.to_csv(nombre_archivo, index=False)\n",
    "        print(f\"Grupo {i + 1} guardado en '{nombre_archivo}'\")\n",
    "\n",
    "carpeta_muestras = 'Muestras'\n",
    "dividir_y_guardar_grupos(Carga_Datos, carpeta_muestras)\n"
   ]
  },
  {
   "cell_type": "markdown",
   "metadata": {},
   "source": [
    "# Tratado de las muestras \n",
    "\n",
    "Asignación de las frecuencias para cada muestra, teniendo en cuenta el ancho de banda \n",
    "\n",
    "Frec_max-Frec_min/cont_frec-1\n"
   ]
  },
  {
   "cell_type": "code",
   "execution_count": 10,
   "metadata": {},
   "outputs": [
    {
     "name": "stdout",
     "output_type": "stream",
     "text": [
      "Archivo procesado y sobrescrito: C:\\Users\\dfgom\\OneDrive\\Escritorio\\USRP\\RFI_Captura\\Salida\\Muestras\\Muestra_1.csv\n",
      "Archivo procesado y sobrescrito: C:\\Users\\dfgom\\OneDrive\\Escritorio\\USRP\\RFI_Captura\\Salida\\Muestras\\Muestra_10.csv\n",
      "Archivo procesado y sobrescrito: C:\\Users\\dfgom\\OneDrive\\Escritorio\\USRP\\RFI_Captura\\Salida\\Muestras\\Muestra_11.csv\n",
      "Archivo procesado y sobrescrito: C:\\Users\\dfgom\\OneDrive\\Escritorio\\USRP\\RFI_Captura\\Salida\\Muestras\\Muestra_12.csv\n",
      "Archivo procesado y sobrescrito: C:\\Users\\dfgom\\OneDrive\\Escritorio\\USRP\\RFI_Captura\\Salida\\Muestras\\Muestra_13.csv\n",
      "Archivo procesado y sobrescrito: C:\\Users\\dfgom\\OneDrive\\Escritorio\\USRP\\RFI_Captura\\Salida\\Muestras\\Muestra_14.csv\n",
      "Archivo procesado y sobrescrito: C:\\Users\\dfgom\\OneDrive\\Escritorio\\USRP\\RFI_Captura\\Salida\\Muestras\\Muestra_15.csv\n",
      "Archivo procesado y sobrescrito: C:\\Users\\dfgom\\OneDrive\\Escritorio\\USRP\\RFI_Captura\\Salida\\Muestras\\Muestra_16.csv\n",
      "Archivo procesado y sobrescrito: C:\\Users\\dfgom\\OneDrive\\Escritorio\\USRP\\RFI_Captura\\Salida\\Muestras\\Muestra_2.csv\n",
      "Archivo procesado y sobrescrito: C:\\Users\\dfgom\\OneDrive\\Escritorio\\USRP\\RFI_Captura\\Salida\\Muestras\\Muestra_3.csv\n",
      "Archivo procesado y sobrescrito: C:\\Users\\dfgom\\OneDrive\\Escritorio\\USRP\\RFI_Captura\\Salida\\Muestras\\Muestra_4.csv\n",
      "Archivo procesado y sobrescrito: C:\\Users\\dfgom\\OneDrive\\Escritorio\\USRP\\RFI_Captura\\Salida\\Muestras\\Muestra_5.csv\n",
      "Archivo procesado y sobrescrito: C:\\Users\\dfgom\\OneDrive\\Escritorio\\USRP\\RFI_Captura\\Salida\\Muestras\\Muestra_6.csv\n",
      "Archivo procesado y sobrescrito: C:\\Users\\dfgom\\OneDrive\\Escritorio\\USRP\\RFI_Captura\\Salida\\Muestras\\Muestra_7.csv\n",
      "Archivo procesado y sobrescrito: C:\\Users\\dfgom\\OneDrive\\Escritorio\\USRP\\RFI_Captura\\Salida\\Muestras\\Muestra_8.csv\n",
      "Archivo procesado y sobrescrito: C:\\Users\\dfgom\\OneDrive\\Escritorio\\USRP\\RFI_Captura\\Salida\\Muestras\\Muestra_9.csv\n"
     ]
    }
   ],
   "source": [
    "carpeta = r'C:\\Users\\dfgom\\OneDrive\\Escritorio\\USRP\\RFI_Captura\\Salida\\Muestras'  \n",
    "archivos_csv = [archivo for archivo in os.listdir(carpeta) if archivo.endswith('.csv')]\n",
    "\n",
    "BW_TEMP = 0\n",
    "MST_ANT = False\n",
    "\n",
    "# Procesar cada archivo CSV en la carpeta\n",
    "for archivo_csv in archivos_csv:\n",
    "    archivo_path = os.path.join(carpeta, archivo_csv)\n",
    "    data = pd.read_csv(archivo_path)\n",
    "\n",
    "    # Identificar las secuencias de frecuencias iguales\n",
    "    secuencias = data['Frecuencia (Hz)'].unique()\n",
    "\n",
    "    # Calcular el valor de BW\n",
    "    if len(secuencias) >= 2: # REVISA SI HAY OTRA FRECUENCIA \n",
    "        BW = (secuencias[1] - secuencias[0])\n",
    "        BW_TEMP = BW\n",
    "        MST_ANT = True\n",
    "        \n",
    "    elif (MST_ANT == True):\n",
    "        BW = BW_TEMP\n",
    "\n",
    "    else:               # si no no hubo una muestra anterior y no tiene un valor de BW lo tomara por defecto como 20M.\n",
    "        BW = 20000000\n",
    "\n",
    "    # Crear un nuevo DataFrame para los resultados\n",
    "    nuevo_df = pd.DataFrame(columns=['Frecuencia (Hz)', 'dB'])\n",
    "\n",
    "    # Calcular y agregar los nuevos valores de frecuencia \n",
    "    for secuencia in secuencias:\n",
    "        num_samples = (data['Frecuencia (Hz)'] == secuencia).sum()\n",
    "        \n",
    "        min_value = secuencia - (BW / 2)\n",
    "        max_value = secuencia + (BW / 2)\n",
    "\n",
    "        # Asegurar que num_samples sea al menos 2\n",
    "        if num_samples == 1:\n",
    "            num_samples = 2\n",
    "\n",
    "        incremento_frec = BW / (num_samples - 1)\n",
    "        nuevos_valores_frecuencia = min_value + np.arange(num_samples) * incremento_frec\n",
    "        nuevos_valores_frecuencia = pd.Series(nuevos_valores_frecuencia)\n",
    "        nuevos_valores_frecuencia.name = 'Frecuencia (Hz)'\n",
    "        nuevo_df = pd.concat([nuevo_df, pd.concat([nuevos_valores_frecuencia, data[data['Frecuencia (Hz)'] == secuencia]['dB'].reset_index(drop=True)], axis=1)], ignore_index=True)\n",
    "\n",
    "    # Ordenar el nuevo DataFrame por frecuencia\n",
    "    nuevo_df.sort_values(by=['Frecuencia (Hz)'], inplace=True)\n",
    "\n",
    "    # Reiniciar los índices del nuevo DataFrame\n",
    "    nuevo_df.reset_index(drop=True, inplace=True)\n",
    "\n",
    "    # Sobreescribir el archivo CSV original con los nuevos datos\n",
    "    nuevo_df.to_csv(archivo_path, index=False)\n",
    "\n",
    "    print(f'Archivo procesado y sobrescrito: {archivo_path}')\n"
   ]
  },
  {
   "cell_type": "markdown",
   "metadata": {},
   "source": [
    "# Genera los plots de las muestras por separado "
   ]
  },
  {
   "cell_type": "code",
   "execution_count": null,
   "metadata": {},
   "outputs": [],
   "source": [
    "\n",
    "carpeta_datos = r\"C:\\Users\\dfgom\\OneDrive\\Escritorio\\USRP\\RFI_Captura\\Salida\\Muestras\\Muestra_tratadas\"\n",
    "\n",
    "# Crear la carpeta 'plots' si no existe\n",
    "carpeta_plots = os.path.join(carpeta_datos, \"plots\")\n",
    "os.makedirs(carpeta_plots, exist_ok=True)\n",
    "\n",
    "# Lista de archivos CSV en la carpeta de datos\n",
    "archivos_csv = [archivo for archivo in os.listdir(carpeta_datos) if archivo.endswith(\".csv\")]\n",
    "\n",
    "# Función para dividir los datos en grupos de 2000\n",
    "def dividir_en_grupos(datos):\n",
    "    grupos = []\n",
    "    grupo_actual = []\n",
    "    for i, fila in enumerate(datos):\n",
    "        grupo_actual.append(fila)\n",
    "        if (i + 1) % 1000 == 0:\n",
    "            grupos.append(grupo_actual)\n",
    "            grupo_actual = []\n",
    "    if grupo_actual:\n",
    "        grupos.append(grupo_actual)\n",
    "    return grupos\n",
    "\n",
    "# Procesar cada archivo CSV\n",
    "for archivo_csv in archivos_csv:\n",
    "    # Leer el archivo CSV\n",
    "    ruta_csv = os.path.join(carpeta_datos, archivo_csv)\n",
    "    df = pd.read_csv(ruta_csv)\n",
    "\n",
    "    # Dividir los datos en grupos de 2000\n",
    "    grupos = dividir_en_grupos(df.values)\n",
    "\n",
    "    # Generar y guardar los gráficos para cada grupo\n",
    "    for i, grupo in enumerate(grupos):\n",
    "        plt.figure(figsize=(18, 8))\n",
    "        x = [fila[0] for fila in grupo]\n",
    "        y = [fila[1] for fila in grupo]\n",
    "        plt.plot(x, y)\n",
    "        plt.xlabel(\"Frecuencia (Hz)\")\n",
    "        plt.ylabel(\"dB\")\n",
    "        plt.title(f\"Gráfico {i + 1} - {archivo_csv}\")\n",
    "        ruta_plot = os.path.join(carpeta_plots, f\"{archivo_csv}_{i + 1}.png\")\n",
    "        plt.savefig(ruta_plot)\n",
    "        plt.close()\n",
    "\n",
    "print(\"Gráficos generados y guardados en la carpeta 'plots'.\")"
   ]
  },
  {
   "cell_type": "code",
   "execution_count": 23,
   "metadata": {},
   "outputs": [
    {
     "data": {
      "image/png": "[encoded data removed]",
      "text/plain": [
       "<Figure size 640x480 with 4 Axes>"
      ]
     },
     "metadata": {},
     "output_type": "display_data"
    }
   ],
   "source": [
    "import matplotlib.pyplot as plt\n",
    "import numpy as np\n",
    "\n",
    "from matplotlib.widgets import Button, Slider\n",
    "\n",
    "\n",
    "# The parametrized function to be plotted\n",
    "def f(t, amplitude, frequency):\n",
    "    return amplitude * np.sin(2 * np.pi * frequency * t)\n",
    "\n",
    "t = np.linspace(0, 1, 1000)\n",
    "\n",
    "# Define initial parameters\n",
    "init_amplitude = 5\n",
    "init_frequency = 3\n",
    "\n",
    "# Create the figure and the line that we will manipulate\n",
    "fig, ax = plt.subplots()\n",
    "line, = ax.plot(t, f(t, init_amplitude, init_frequency), lw=2)\n",
    "ax.set_xlabel('Time [s]')\n",
    "\n",
    "# adjust the main plot to make room for the sliders\n",
    "fig.subplots_adjust(left=0.25, bottom=0.25)\n",
    "\n",
    "# Make a horizontal slider to control the frequency.\n",
    "axfreq = fig.add_axes([0.25, 0.1, 0.65, 0.03])\n",
    "freq_slider = Slider(\n",
    "    ax=axfreq,\n",
    "    label='Frequency [Hz]',\n",
    "    valmin=0.1,\n",
    "    valmax=30,\n",
    "    valinit=init_frequency,\n",
    ")\n",
    "\n",
    "# Make a vertically oriented slider to control the amplitude\n",
    "axamp = fig.add_axes([0.1, 0.25, 0.0225, 0.63])\n",
    "amp_slider = Slider(\n",
    "    ax=axamp,\n",
    "    label=\"Amplitude\",\n",
    "    valmin=0,\n",
    "    valmax=10,\n",
    "    valinit=init_amplitude,\n",
    "    orientation=\"vertical\"\n",
    ")\n",
    "\n",
    "\n",
    "# The function to be called anytime a slider's value changes\n",
    "def update(val):\n",
    "    line.set_ydata(f(t, amp_slider.val, freq_slider.val))\n",
    "    fig.canvas.draw_idle()\n",
    "\n",
    "\n",
    "# register the update function with each slider\n",
    "freq_slider.on_changed(update)\n",
    "amp_slider.on_changed(update)\n",
    "\n",
    "# Create a `matplotlib.widgets.Button` to reset the sliders to initial values.\n",
    "resetax = fig.add_axes([0.8, 0.025, 0.1, 0.04])\n",
    "button = Button(resetax, 'Reset', hovercolor='0.975')\n",
    "\n",
    "\n",
    "def reset(event):\n",
    "    freq_slider.reset()\n",
    "    amp_slider.reset()\n",
    "button.on_clicked(reset)\n",
    "\n",
    "plt.show()"
   ]
  },
  {
   "cell_type": "markdown",
   "metadata": {},
   "source": [
    "# Filtrado de datos \n",
    "\n",
    "Promedia los datos de las muestras en grupos "
   ]
  },
  {
   "cell_type": "code",
   "execution_count": null,
   "metadata": {},
   "outputs": [],
   "source": [
    "\n",
    "carpeta_datos = r\"C:\\Users\\dfgom\\OneDrive\\Escritorio\\USRP\\RFI_Captura\\Salida\\Muestras\"\n",
    "\n",
    "carpeta_tratadas = os.path.join(carpeta_datos, \"Muestra_tratadas\")\n",
    "os.makedirs(carpeta_tratadas, exist_ok=True)\n",
    "\n",
    "archivos_csv = [archivo for archivo in os.listdir(carpeta_datos) if archivo.endswith(\".csv\")]\n",
    "\n",
    "# Función para promediar los datos en grupos \n",
    "def promediar_en_grupos(datos):\n",
    "    grupos_promediados = []\n",
    "    grupo_actual = []\n",
    "    for i, fila in enumerate(datos):\n",
    "        grupo_actual.append(fila)\n",
    "        if (i + 1) % 10 == 0:\n",
    "            promedio_grupo = [sum(col) / len(col) for col in zip(*grupo_actual)]\n",
    "            grupos_promediados.append(promedio_grupo)\n",
    "            grupo_actual = []\n",
    "    if grupo_actual:\n",
    "        promedio_grupo = [sum(col) / len(col) for col in zip(*grupo_actual)]\n",
    "        grupos_promediados.append(promedio_grupo)\n",
    "    return grupos_promediados\n",
    "\n",
    "for archivo_csv in archivos_csv:\n",
    "    # Leer el archivo CSV\n",
    "    ruta_csv = os.path.join(carpeta_datos, archivo_csv)\n",
    "    df = pd.read_csv(ruta_csv)\n",
    "\n",
    "    # Promediar ambas columnas en grupos y crear un nuevo DataFrame\n",
    "    grupos_promediados = promediar_en_grupos(df.values)\n",
    "    df_promediado = pd.DataFrame(grupos_promediados, columns=[\"Promedio_Frecuencia (Hz)\", \"Promedio_dB\"])\n",
    "\n",
    "    # Generar el nombre del archivo filtrado\n",
    "    nombre_filtrado = os.path.splitext(archivo_csv)[0] + \"_filtrado.csv\"\n",
    "    ruta_filtrado = os.path.join(carpeta_tratadas, nombre_filtrado)\n",
    "\n",
    "    df_promediado.to_csv(ruta_filtrado, index=False)\n",
    "\n",
    "print(\"Archivos filtrados y promediados guardados en la carpeta 'Muestra_tratadas'.\")"
   ]
  },
  {
   "cell_type": "markdown",
   "metadata": {},
   "source": [
    "# pruebas con dataframe pequeño \n"
   ]
  },
  {
   "cell_type": "code",
   "execution_count": null,
   "metadata": {},
   "outputs": [],
   "source": [
    "\n",
    "archivo1 = r'C:\\Users\\dfgom\\OneDrive\\Escritorio\\USRP\\RFI_Captura\\Salida\\Muestras\\Muestra_1.csv'\n",
    "archivo2 = r'C:\\Users\\dfgom\\OneDrive\\Escritorio\\USRP\\RFI_Captura\\Salida\\Muestras\\Muestra_2.csv'\n",
    "\n",
    "df1 = pd.read_csv(archivo1)\n",
    "df2 = pd.read_csv(archivo2)\n",
    "\n",
    "tolerancia_frecuencia = 10000  # Ajusta este valor según tus necesidades\n",
    "\n",
    "# Función para calcular el promedio de una agrupación\n",
    "def calcular_promedio(group):\n",
    "    return np.mean(group)\n",
    "\n",
    "# Agrupa los datos por frecuencia dentro de la tolerancia y calcula el promedio utilizando NumPy\n",
    "resultado_df1 = df1.groupby(pd.cut(df1['Frecuencia (Hz)'], bins=pd.interval_range(start=df1['Frecuencia (Hz)'].min(), end=df1['Frecuencia (Hz)'].max(), freq=tolerancia_frecuencia)))['dB'].agg(calcular_promedio).reset_index()\n",
    "resultado_df2 = df2.groupby(pd.cut(df2['Frecuencia (Hz)'], bins=pd.interval_range(start=df2['Frecuencia (Hz)'].min(), end=df2['Frecuencia (Hz)'].max(), freq=tolerancia_frecuencia)))['dB'].agg(calcular_promedio).reset_index()\n",
    "\n",
    "# Combinar los resultados de ambos DataFrames\n",
    "resultado_combinado = pd.merge(resultado_df1, resultado_df2, on='Frecuencia (Hz)', suffixes=('_archivo1', '_archivo2'))\n",
    "\n",
    "# Calcular el promedio de las columnas 'dB_archivo1' y 'dB_archivo2' y agregarlo como una tercera columna\n",
    "resultado_combinado['Promedio_Total'] = (resultado_combinado['dB_archivo1'] + resultado_combinado['dB_archivo2']) / 2\n",
    "\n",
    "# Guarda el DataFrame resultante en un archivo CSV\n",
    "resultado_csv = 'resultado.csv'\n",
    "resultado_combinado.to_csv(resultado_csv, index=False)"
   ]
  },
  {
   "cell_type": "code",
   "execution_count": null,
   "metadata": {},
   "outputs": [],
   "source": [
    "# Leer el archivo CSV con los datos\n",
    "archivo_csv = r'C:\\Users\\dfgom\\OneDrive\\Escritorio\\USRP\\RFI_Captura\\Salida\\Resultados\\resultado_todos_los_datos.csv'\n",
    "df = pd.read_csv(archivo_csv)\n",
    "\n",
    "# Extraer las columnas de frecuencia y promedio\n",
    "frecuencia = df['Frecuencia (Hz)'].to_numpy()\n",
    "promedio = df['Promedio_Total'].to_numpy()\n",
    "\n",
    "# Crear un gráfico de líneas\n",
    "plt.figure(figsize=(12, 6))\n",
    "plt.plot(frecuencia, promedio, marker='', linestyle='-')  # Utiliza 'o' para marcar los puntos\n",
    "\n",
    "# Configurar etiquetas y título\n",
    "plt.xlabel('Frecuencia (Hz)')\n",
    "plt.ylabel('Promedio Total (dB)')\n",
    "plt.title('Promedio Total por Intervalo de Frecuencia')\n",
    "\n",
    "# Mostrar el gráfico\n",
    "plt.xticks(rotation=45)\n",
    "plt.grid(True)  # Agrega una cuadrícula para mayor claridad\n",
    "plt.tight_layout()\n",
    "plt.show()"
   ]
  },
  {
   "cell_type": "code",
   "execution_count": 3,
   "metadata": {},
   "outputs": [
    {
     "name": "stdout",
     "output_type": "stream",
     "text": [
      "Primer valor ingresado: 20\n",
      "Segundo valor ingresado: 34\n"
     ]
    }
   ],
   "source": [
    "valor1 = input(\"Ingresa el primer valor: \")\n",
    "\n",
    "# Solicitar al usuario que ingrese el segundo valor\n",
    "valor2 = input(\"Ingresa el segundo valor: \")\n",
    "\n",
    "# Mostrar los valores ingresados por el usuario\n",
    "print(\"Primer valor ingresado:\", valor1)\n",
    "print(\"Segundo valor ingresado:\", valor2)"
   ]
  }
 ],
 "metadata": {
  "kernelspec": {
   "display_name": "base",
   "language": "python",
   "name": "python3"
  },
  "language_info": {
   "codemirror_mode": {
    "name": "ipython",
    "version": 3
   },
   "file_extension": ".py",
   "mimetype": "text/x-python",
   "name": "python",
   "nbconvert_exporter": "python",
   "pygments_lexer": "ipython3",
   "version": "3.8.0"
  },
  "orig_nbformat": 4
 },
 "nbformat": 4,
 "nbformat_minor": 2
}
