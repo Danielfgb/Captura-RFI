{
 "cells": [
  {
   "cell_type": "code",
   "execution_count": 25,
   "metadata": {},
   "outputs": [],
   "source": [
    "import pandas as pd\n",
    "import matplotlib.pyplot as plt\n",
    "import numpy as np\n",
    "import os\n",
    "from matplotlib.animation import FuncAnimation\n",
    "from PIL import Image\n",
    "from collections import Counter"
   ]
  },
  {
   "cell_type": "code",
   "execution_count": 14,
   "metadata": {},
   "outputs": [],
   "source": [
    "Carga_Datos = pd.read_csv(r\"C:\\Users\\dfgom\\OneDrive\\Escritorio\\USRP\\RFI_Captura\\Salida\\outputprueba2.csv\")"
   ]
  },
  {
   "cell_type": "markdown",
   "metadata": {},
   "source": [
    "### Datos temporales para pruebas \n"
   ]
  },
  {
   "cell_type": "code",
   "execution_count": null,
   "metadata": {},
   "outputs": [],
   "source": [
    "# datos para las pruebas:\n",
    "# data = {'Frecuencia (Hz)': [90000000.0, 90000000.0, 90000000.0, 130000000.0, 130000000.0, 130000000.0, 130000000.0, 130000000.0, 110000000.0, 110000000.0, 110000000.0, 110000000.0, 170000000.0, 170000000.0, 170000000.0, 150000000.0, 150000000.0, 190000000.0, 190000000.0, 190000000.0, 90000000.0, 90000000.0, 90000000.0, 90000000.0],\n",
    "#         'dB': [50, 25, 36, 26, 27, 26, 98, 27, 23, 46, 93, 68, 126, 30, 129, 119, 69, 114, 89, 69, 63, 27, 96, 78]}\n",
    "\n",
    "data = {\n",
    "    'Frecuencia (Hz)': [90000000.0, 90000000.0, 90000000.0, 110000000.0, 110000000.0,\n",
    "                         110000000.0, 110000000.0, 130000000.0, 130000000.0, 130000000.0,\n",
    "                         130000000.0, 130000000.0, 150000000.0, 150000000.0, 170000000.0,\n",
    "                         170000000.0, 170000000.0, 190000000.0, 190000000.0, 190000000.0,\n",
    "                         90000000.0, 90000000.0, 90000000.0, 90000000.0, 110000000.0, 110000000.0,\n",
    "                         130000000.0, 150000000.0, 150000000.0,170000000.0, 190000000.0, 190000000.0, 90000000.0,90000000.0,90000000.0],\n",
    "    'dB': [50, 25, 36, 26, 27, 26, 98, 27, 23, 46, 93, 68, 126, 30, 129, 119, 69, 114, 89, 69, 63, 27, 96, 78, 98,77,88,99, 27,-11,-22,-33,-5555,-1111,-2222]\n",
    "}\n",
    "\n",
    "Carga_Datos = pd.DataFrame(data)\n",
    "print(Carga_Datos)"
   ]
  },
  {
   "cell_type": "markdown",
   "metadata": {},
   "source": [
    "###  Borra los primeros datos con caracteres vacíos o nulos  \n",
    "\n",
    "|Frecuencia (Hz)|        dB        |\n",
    "|---------------|------------------|\n",
    "|    nan        |-101.9620361328125|\n"
   ]
  },
  {
   "cell_type": "code",
   "execution_count": 15,
   "metadata": {},
   "outputs": [],
   "source": [
    "Carga_Datos= Carga_Datos.dropna(subset=['Frecuencia (Hz)'])\n",
    "# print(Carga_Datos['Frecuencia (Hz)'].mean())"
   ]
  },
  {
   "cell_type": "markdown",
   "metadata": {},
   "source": [
    "### Cantidad total de datos por cada frecuencia     \n"
   ]
  },
  {
   "cell_type": "code",
   "execution_count": 16,
   "metadata": {},
   "outputs": [
    {
     "name": "stdout",
     "output_type": "stream",
     "text": [
      "Frecuencia (Hz)\n",
      "90000000.0     245760\n",
      "130000000.0    221184\n",
      "150000000.0    221184\n",
      "190000000.0    212992\n",
      "110000000.0    204800\n",
      "170000000.0    172032\n",
      "Name: count, dtype: int64\n"
     ]
    }
   ],
   "source": [
    "conteo_frecuencia = Carga_Datos['Frecuencia (Hz)'].value_counts()\n",
    "print(conteo_frecuencia)"
   ]
  },
  {
   "cell_type": "markdown",
   "metadata": {},
   "source": [
    "### Separación de muestras por cada frecuencia  "
   ]
  },
  {
   "cell_type": "code",
   "execution_count": 17,
   "metadata": {},
   "outputs": [
    {
     "name": "stdout",
     "output_type": "stream",
     "text": [
      "Frecuencia: 90000000.0 - Conteos: 8192, 16384, 16384, 24576, 16384, 16384, 8192, 16384, 16384, 16384, 16384, 8192, 16384, 16384, 16384, 16384\n",
      "Frecuencia: 110000000.0 - Conteos: 8192, 8192, 8192, 16384, 16384, 8192, 16384, 8192, 16384, 16384, 16384, 16384, 16384, 16384, 8192, 8192\n",
      "Frecuencia: 130000000.0 - Conteos: 16384, 16384, 8192, 8192, 8192, 16384, 16384, 16384, 8192, 16384, 16384, 16384, 16384, 16384, 16384, 8192\n",
      "Frecuencia: 150000000.0 - Conteos: 8192, 16384, 8192, 16384, 16384, 16384, 16384, 16384, 8192, 16384, 16384, 16384, 16384, 16384, 16384\n",
      "Frecuencia: 170000000.0 - Conteos: 16384, 8192, 16384, 8192, 8192, 16384, 8192, 16384, 8192, 8192, 8192, 16384, 8192, 16384, 8192\n",
      "Frecuencia: 190000000.0 - Conteos: 16384, 16384, 8192, 16384, 8192, 16384, 16384, 8192, 16384, 16384, 16384, 8192, 16384, 16384, 16384\n"
     ]
    }
   ],
   "source": [
    "recuentos_por_muestra = {}\n",
    "\n",
    "# Convertir la columna 'Frecuencia (Hz)' en un arreglo NumPy\n",
    "frecuencias = Carga_Datos['Frecuencia (Hz)'].values\n",
    "\n",
    "# Inicializar variables para llevar el seguimiento de la muestra actual y el conteo actual\n",
    "muestra_actual = None\n",
    "conteo_actual = 0\n",
    "\n",
    "# Iterar a través del arreglo NumPy\n",
    "for frecuencia in frecuencias:\n",
    "    if muestra_actual is None:\n",
    "        muestra_actual = frecuencia\n",
    "        conteo_actual = 1\n",
    "    elif muestra_actual == frecuencia:\n",
    "        conteo_actual += 1\n",
    "    else:\n",
    "        if muestra_actual not in recuentos_por_muestra:\n",
    "            recuentos_por_muestra[muestra_actual] = []\n",
    "        recuentos_por_muestra[muestra_actual].append(conteo_actual)\n",
    "        \n",
    "        muestra_actual = frecuencia\n",
    "        conteo_actual = 1\n",
    "\n",
    "# Agregar el último conjunto de conteos a la salida\n",
    "if muestra_actual is not None:\n",
    "    if muestra_actual not in recuentos_por_muestra:\n",
    "        recuentos_por_muestra[muestra_actual] = []\n",
    "    recuentos_por_muestra[muestra_actual].append(conteo_actual)\n",
    "\n",
    "# Imprimir los recuentos por muestra\n",
    "for muestra, conteos in recuentos_por_muestra.items():\n",
    "    print(f'Frecuencia: {muestra} - Conteos: {\", \".join(map(str, conteos))}')"
   ]
  },
  {
   "cell_type": "code",
   "execution_count": null,
   "metadata": {},
   "outputs": [],
   "source": [
    "recuentos_por_muestra = {}\n",
    "\n",
    "# Convertir la columna 'Frecuencia (Hz)' en un arreglo NumPy\n",
    "frecuencias = Carga_Datos['Frecuencia (Hz)'].values\n",
    "db_valores = Carga_Datos['dB'].values\n",
    "\n",
    "# Inicializar variables para llevar el seguimiento de la muestra anterior y el conteo actual\n",
    "muestra_anterior = None\n",
    "conteo_actual = 0\n",
    "primer_db = None\n",
    "num_muestras_por_frecuencia = {}\n",
    "\n",
    "# Iterar a través del arreglo NumPy\n",
    "for frecuencia, db in zip(frecuencias, db_valores):\n",
    "    if muestra_anterior is None:\n",
    "        muestra_anterior = frecuencia\n",
    "        conteo_actual = 1\n",
    "        primer_db = db\n",
    "        # Incrementar el número de muestras por frecuencia\n",
    "        if muestra_anterior not in num_muestras_por_frecuencia:\n",
    "            num_muestras_por_frecuencia[muestra_anterior] = 0\n",
    "        num_muestras_por_frecuencia[muestra_anterior] += 1\n",
    "    elif muestra_anterior == frecuencia:\n",
    "        conteo_actual += 1\n",
    "    else:\n",
    "        if muestra_anterior not in recuentos_por_muestra:\n",
    "            recuentos_por_muestra[muestra_anterior] = []\n",
    "        recuentos_por_muestra[muestra_anterior].append((conteo_actual, primer_db))\n",
    "        \n",
    "        muestra_anterior = frecuencia\n",
    "        conteo_actual = 1\n",
    "        primer_db = db\n",
    "        # Incrementar el número de muestras por frecuencia\n",
    "        if muestra_anterior not in num_muestras_por_frecuencia:\n",
    "            num_muestras_por_frecuencia[muestra_anterior] = 0\n",
    "        num_muestras_por_frecuencia[muestra_anterior] += 1\n",
    "\n",
    "# Agregar el último conjunto de conteos a la salida\n",
    "if muestra_anterior is not None:\n",
    "    if muestra_anterior not in recuentos_por_muestra:\n",
    "        recuentos_por_muestra[muestra_anterior] = []\n",
    "    recuentos_por_muestra[muestra_anterior].append((conteo_actual, primer_db))\n",
    "\n",
    "# Imprimir los recuentos por muestra, el número de muestras por frecuencia y el primer valor de dB en cada conteo\n",
    "for muestra, conteos in recuentos_por_muestra.items():\n",
    "    print(f'Frecuencia: {muestra} - Conteos y Primer dB:')\n",
    "    for conteo, primer_valor_db in conteos:\n",
    "        print(f'  - Conteo: {conteo}, Primer dB: {primer_valor_db}')\n",
    "    print(f'Número total de muestras para la frecuencia {muestra}: {num_muestras_por_frecuencia.get(muestra, 0)}')\n"
   ]
  },
  {
   "cell_type": "markdown",
   "metadata": {},
   "source": [
    "#  Tratado de datos "
   ]
  },
  {
   "cell_type": "markdown",
   "metadata": {},
   "source": [
    "### --------------------------------------------------------------------------------------------------------------------------------------------------------\n",
    "\n",
    "Para poder tratar los datos se dividen por grupos esos hacen referencia a las muestras que se toman, para posteriormente sacar el promedio de estos y el los máximos "
   ]
  },
  {
   "cell_type": "code",
   "execution_count": 18,
   "metadata": {},
   "outputs": [
    {
     "name": "stdout",
     "output_type": "stream",
     "text": [
      "Grupo 1 guardado en 'Muestras\\Muestra_1.csv'\n",
      "Grupo 2 guardado en 'Muestras\\Muestra_2.csv'\n",
      "Grupo 3 guardado en 'Muestras\\Muestra_3.csv'\n",
      "Grupo 4 guardado en 'Muestras\\Muestra_4.csv'\n",
      "Grupo 5 guardado en 'Muestras\\Muestra_5.csv'\n",
      "Grupo 6 guardado en 'Muestras\\Muestra_6.csv'\n",
      "Grupo 7 guardado en 'Muestras\\Muestra_7.csv'\n",
      "Grupo 8 guardado en 'Muestras\\Muestra_8.csv'\n",
      "Grupo 9 guardado en 'Muestras\\Muestra_9.csv'\n",
      "Grupo 10 guardado en 'Muestras\\Muestra_10.csv'\n",
      "Grupo 11 guardado en 'Muestras\\Muestra_11.csv'\n",
      "Grupo 12 guardado en 'Muestras\\Muestra_12.csv'\n",
      "Grupo 13 guardado en 'Muestras\\Muestra_13.csv'\n",
      "Grupo 14 guardado en 'Muestras\\Muestra_14.csv'\n",
      "Grupo 15 guardado en 'Muestras\\Muestra_15.csv'\n",
      "Grupo 16 guardado en 'Muestras\\Muestra_16.csv'\n"
     ]
    }
   ],
   "source": [
    "def dividir_y_guardar_grupos(Carga_Datos, carpeta_salida):\n",
    "    grupos = []\n",
    "    grupo_actual = None\n",
    "    cambios = np.where(Carga_Datos['Frecuencia (Hz)'].values[:-1] > Carga_Datos['Frecuencia (Hz)'].values[1:])[0]\n",
    "\n",
    "    inicio = 0\n",
    "    for cambio in cambios:\n",
    "        grupo_actual = Carga_Datos.iloc[inicio:cambio + 1]\n",
    "        grupos.append(grupo_actual)\n",
    "        inicio = cambio + 1\n",
    "\n",
    "    grupo_actual = Carga_Datos.iloc[inicio:]\n",
    "    grupos.append(grupo_actual)\n",
    "\n",
    "    # Crear la carpeta de salida si no existe\n",
    "    if not os.path.exists(carpeta_salida):\n",
    "        os.makedirs(carpeta_salida)\n",
    "\n",
    "    # Guardar los grupos en archivos CSV\n",
    "    for i, grupo in enumerate(grupos):\n",
    "        nombre_archivo = os.path.join(carpeta_salida, f'Muestra_{i + 1}.csv')\n",
    "        grupo.to_csv(nombre_archivo, index=False)\n",
    "        print(f\"Grupo {i + 1} guardado en '{nombre_archivo}'\")\n",
    "\n",
    "carpeta_muestras = 'Muestras'\n",
    "dividir_y_guardar_grupos(Carga_Datos, carpeta_muestras)\n"
   ]
  },
  {
   "cell_type": "markdown",
   "metadata": {},
   "source": [
    "# Tratado de las muestras \n",
    "\n",
    "Asignación de las frecuencias para cada muestra, teniendo en cuenta el ancho de banda \n",
    "\n",
    "Frec_max-Frec_min/cont_frec-1\n"
   ]
  },
  {
   "cell_type": "code",
   "execution_count": 19,
   "metadata": {},
   "outputs": [
    {
     "name": "stdout",
     "output_type": "stream",
     "text": [
      "Archivo procesado y sobrescrito: C:\\Users\\dfgom\\OneDrive\\Escritorio\\USRP\\RFI_Captura\\Salida\\Muestras\\Muestra_1.csv\n",
      "Archivo procesado y sobrescrito: C:\\Users\\dfgom\\OneDrive\\Escritorio\\USRP\\RFI_Captura\\Salida\\Muestras\\Muestra_10.csv\n",
      "Archivo procesado y sobrescrito: C:\\Users\\dfgom\\OneDrive\\Escritorio\\USRP\\RFI_Captura\\Salida\\Muestras\\Muestra_11.csv\n",
      "Archivo procesado y sobrescrito: C:\\Users\\dfgom\\OneDrive\\Escritorio\\USRP\\RFI_Captura\\Salida\\Muestras\\Muestra_12.csv\n",
      "Archivo procesado y sobrescrito: C:\\Users\\dfgom\\OneDrive\\Escritorio\\USRP\\RFI_Captura\\Salida\\Muestras\\Muestra_13.csv\n",
      "Archivo procesado y sobrescrito: C:\\Users\\dfgom\\OneDrive\\Escritorio\\USRP\\RFI_Captura\\Salida\\Muestras\\Muestra_14.csv\n",
      "Archivo procesado y sobrescrito: C:\\Users\\dfgom\\OneDrive\\Escritorio\\USRP\\RFI_Captura\\Salida\\Muestras\\Muestra_15.csv\n",
      "Archivo procesado y sobrescrito: C:\\Users\\dfgom\\OneDrive\\Escritorio\\USRP\\RFI_Captura\\Salida\\Muestras\\Muestra_16.csv\n",
      "Archivo procesado y sobrescrito: C:\\Users\\dfgom\\OneDrive\\Escritorio\\USRP\\RFI_Captura\\Salida\\Muestras\\Muestra_2.csv\n",
      "Archivo procesado y sobrescrito: C:\\Users\\dfgom\\OneDrive\\Escritorio\\USRP\\RFI_Captura\\Salida\\Muestras\\Muestra_3.csv\n",
      "Archivo procesado y sobrescrito: C:\\Users\\dfgom\\OneDrive\\Escritorio\\USRP\\RFI_Captura\\Salida\\Muestras\\Muestra_4.csv\n",
      "Archivo procesado y sobrescrito: C:\\Users\\dfgom\\OneDrive\\Escritorio\\USRP\\RFI_Captura\\Salida\\Muestras\\Muestra_5.csv\n",
      "Archivo procesado y sobrescrito: C:\\Users\\dfgom\\OneDrive\\Escritorio\\USRP\\RFI_Captura\\Salida\\Muestras\\Muestra_6.csv\n",
      "Archivo procesado y sobrescrito: C:\\Users\\dfgom\\OneDrive\\Escritorio\\USRP\\RFI_Captura\\Salida\\Muestras\\Muestra_7.csv\n",
      "Archivo procesado y sobrescrito: C:\\Users\\dfgom\\OneDrive\\Escritorio\\USRP\\RFI_Captura\\Salida\\Muestras\\Muestra_8.csv\n",
      "Archivo procesado y sobrescrito: C:\\Users\\dfgom\\OneDrive\\Escritorio\\USRP\\RFI_Captura\\Salida\\Muestras\\Muestra_9.csv\n"
     ]
    }
   ],
   "source": [
    "carpeta = r'C:\\Users\\dfgom\\OneDrive\\Escritorio\\USRP\\RFI_Captura\\Salida\\Muestras'  \n",
    "archivos_csv = [archivo for archivo in os.listdir(carpeta) if archivo.endswith('.csv')]\n",
    "\n",
    "BW_TEMP = 0\n",
    "MST_ANT = False\n",
    "\n",
    "# Procesar cada archivo CSV en la carpeta\n",
    "for archivo_csv in archivos_csv:\n",
    "    # Leer el DataFrame desde el archivo CSV usando NumPy\n",
    "    archivo_path = os.path.join(carpeta, archivo_csv)\n",
    "    data = pd.read_csv(archivo_path)\n",
    "\n",
    "    # Identificar las secuencias de frecuencias iguales\n",
    "    secuencias = data['Frecuencia (Hz)'].unique()\n",
    "\n",
    "    # Calcular el valor de BW\n",
    "    if len(secuencias) >= 2: # REVISA SI HAY OTRA FRECUENCIA \n",
    "        BW = (secuencias[1] - secuencias[0])\n",
    "        BW_TEMP = BW\n",
    "        MST_ANT = True\n",
    "        \n",
    "    elif (MST_ANT == True):\n",
    "        BW = BW_TEMP\n",
    "\n",
    "    else:               # si no no hubo una muestra anterior y no tiene un valor de BW lo tomara por defecto como 20M.\n",
    "        BW = 20000000\n",
    "\n",
    "    # Crear un nuevo DataFrame para los resultados\n",
    "    nuevo_df = pd.DataFrame(columns=['Frecuencia (Hz)', 'dB'])\n",
    "\n",
    "    # Calcular y agregar los nuevos valores de frecuencia \n",
    "    for secuencia in secuencias:\n",
    "        num_samples = (data['Frecuencia (Hz)'] == secuencia).sum()\n",
    "        \n",
    "        min_value = secuencia - (BW / 2)\n",
    "        max_value = secuencia + (BW / 2)\n",
    "\n",
    "        # Asegurar que num_samples sea al menos 2\n",
    "        if num_samples == 1:\n",
    "            num_samples = 2\n",
    "\n",
    "        incremento_frec = BW / (num_samples - 1)\n",
    "        nuevos_valores_frecuencia = min_value + np.arange(num_samples) * incremento_frec\n",
    "        nuevos_valores_frecuencia = pd.Series(nuevos_valores_frecuencia)\n",
    "        nuevos_valores_frecuencia.name = 'Frecuencia (Hz)'\n",
    "        nuevo_df = pd.concat([nuevo_df, pd.concat([nuevos_valores_frecuencia, data[data['Frecuencia (Hz)'] == secuencia]['dB'].reset_index(drop=True)], axis=1)], ignore_index=True)\n",
    "\n",
    "    # Ordenar el nuevo DataFrame por frecuencia\n",
    "    nuevo_df.sort_values(by=['Frecuencia (Hz)'], inplace=True)\n",
    "\n",
    "    # Reiniciar los índices del nuevo DataFrame\n",
    "    nuevo_df.reset_index(drop=True, inplace=True)\n",
    "\n",
    "    # Sobreescribir el archivo CSV original con los nuevos datos\n",
    "    nuevo_df.to_csv(archivo_path, index=False)\n",
    "\n",
    "    print(f'Archivo procesado y sobrescrito: {archivo_path}')\n"
   ]
  },
  {
   "cell_type": "markdown",
   "metadata": {},
   "source": [
    "# Genera los plots de las muestras por separado "
   ]
  },
  {
   "cell_type": "code",
   "execution_count": 23,
   "metadata": {},
   "outputs": [
    {
     "name": "stdout",
     "output_type": "stream",
     "text": [
      "Gráficos generados y guardados en la carpeta 'plots'.\n"
     ]
    }
   ],
   "source": [
    "\n",
    "carpeta_datos = r\"C:\\Users\\dfgom\\OneDrive\\Escritorio\\USRP\\RFI_Captura\\Salida\\Muestras\\Muestra_tratadas\"\n",
    "\n",
    "# Crear la carpeta 'plots' si no existe\n",
    "carpeta_plots = os.path.join(carpeta_datos, \"plots\")\n",
    "os.makedirs(carpeta_plots, exist_ok=True)\n",
    "\n",
    "# Lista de archivos CSV en la carpeta de datos\n",
    "archivos_csv = [archivo for archivo in os.listdir(carpeta_datos) if archivo.endswith(\".csv\")]\n",
    "\n",
    "# Función para dividir los datos en grupos de 2000\n",
    "def dividir_en_grupos(datos):\n",
    "    grupos = []\n",
    "    grupo_actual = []\n",
    "    for i, fila in enumerate(datos):\n",
    "        grupo_actual.append(fila)\n",
    "        if (i + 1) % 1000 == 0:\n",
    "            grupos.append(grupo_actual)\n",
    "            grupo_actual = []\n",
    "    if grupo_actual:\n",
    "        grupos.append(grupo_actual)\n",
    "    return grupos\n",
    "\n",
    "# Procesar cada archivo CSV\n",
    "for archivo_csv in archivos_csv:\n",
    "    # Leer el archivo CSV\n",
    "    ruta_csv = os.path.join(carpeta_datos, archivo_csv)\n",
    "    df = pd.read_csv(ruta_csv)\n",
    "\n",
    "    # Dividir los datos en grupos de 2000\n",
    "    grupos = dividir_en_grupos(df.values)\n",
    "\n",
    "    # Generar y guardar los gráficos para cada grupo\n",
    "    for i, grupo in enumerate(grupos):\n",
    "        plt.figure(figsize=(18, 8))\n",
    "        x = [fila[0] for fila in grupo]\n",
    "        y = [fila[1] for fila in grupo]\n",
    "        plt.plot(x, y)\n",
    "        plt.xlabel(\"Frecuencia (Hz)\")\n",
    "        plt.ylabel(\"dB\")\n",
    "        plt.title(f\"Gráfico {i + 1} - {archivo_csv}\")\n",
    "        ruta_plot = os.path.join(carpeta_plots, f\"{archivo_csv}_{i + 1}.png\")\n",
    "        plt.savefig(ruta_plot)\n",
    "        plt.close()\n",
    "\n",
    "print(\"Gráficos generados y guardados en la carpeta 'plots'.\")"
   ]
  },
  {
   "cell_type": "markdown",
   "metadata": {},
   "source": [
    "# Filtrado de datos \n",
    "\n",
    "Promedia los datos de las muestras en grupos "
   ]
  },
  {
   "cell_type": "code",
   "execution_count": 21,
   "metadata": {},
   "outputs": [
    {
     "name": "stdout",
     "output_type": "stream",
     "text": [
      "Archivos filtrados y promediados guardados en la carpeta 'Muestra_tratadas'.\n"
     ]
    }
   ],
   "source": [
    "\n",
    "carpeta_datos = r\"C:\\Users\\dfgom\\OneDrive\\Escritorio\\USRP\\RFI_Captura\\Salida\\Muestras\"\n",
    "\n",
    "carpeta_tratadas = os.path.join(carpeta_datos, \"Muestra_tratadas\")\n",
    "os.makedirs(carpeta_tratadas, exist_ok=True)\n",
    "\n",
    "archivos_csv = [archivo for archivo in os.listdir(carpeta_datos) if archivo.endswith(\".csv\")]\n",
    "\n",
    "# Función para promediar los datos en grupos \n",
    "def promediar_en_grupos(datos):\n",
    "    grupos_promediados = []\n",
    "    grupo_actual = []\n",
    "    for i, fila in enumerate(datos):\n",
    "        grupo_actual.append(fila)\n",
    "        if (i + 1) % 10 == 0:\n",
    "            promedio_grupo = [sum(col) / len(col) for col in zip(*grupo_actual)]\n",
    "            grupos_promediados.append(promedio_grupo)\n",
    "            grupo_actual = []\n",
    "    if grupo_actual:\n",
    "        promedio_grupo = [sum(col) / len(col) for col in zip(*grupo_actual)]\n",
    "        grupos_promediados.append(promedio_grupo)\n",
    "    return grupos_promediados\n",
    "\n",
    "for archivo_csv in archivos_csv:\n",
    "    # Leer el archivo CSV\n",
    "    ruta_csv = os.path.join(carpeta_datos, archivo_csv)\n",
    "    df = pd.read_csv(ruta_csv)\n",
    "\n",
    "    # Promediar ambas columnas en grupos y crear un nuevo DataFrame\n",
    "    grupos_promediados = promediar_en_grupos(df.values)\n",
    "    df_promediado = pd.DataFrame(grupos_promediados, columns=[\"Promedio_Frecuencia (Hz)\", \"Promedio_dB\"])\n",
    "\n",
    "    # Generar el nombre del archivo filtrado\n",
    "    nombre_filtrado = os.path.splitext(archivo_csv)[0] + \"_filtrado.csv\"\n",
    "    ruta_filtrado = os.path.join(carpeta_tratadas, nombre_filtrado)\n",
    "\n",
    "    df_promediado.to_csv(ruta_filtrado, index=False)\n",
    "\n",
    "print(\"Archivos filtrados y promediados guardados en la carpeta 'Muestra_tratadas'.\")"
   ]
  },
  {
   "cell_type": "markdown",
   "metadata": {},
   "source": [
    "# pruebas con dataframe pequeño \n"
   ]
  },
  {
   "cell_type": "code",
   "execution_count": 57,
   "metadata": {},
   "outputs": [],
   "source": [
    "\n",
    "# Carpeta que contiene los archivos CSV\n",
    "carpeta = r'C:\\Users\\dfgom\\OneDrive\\Escritorio\\USRP\\RFI_Captura\\Salida\\Muestras'\n",
    "\n",
    "# Obtener la lista de archivos CSV en la carpeta\n",
    "archivos_csv = [f for f in os.listdir(carpeta) if f.endswith('.csv')]\n",
    "\n",
    "# Definición de la tolerancia de frecuencia\n",
    "tolerancia_frecuencia = 10000  # Ajusta este valor según tus necesidades\n",
    "\n",
    "# Función para calcular el promedio de una agrupación\n",
    "def calcular_promedio(group):\n",
    "    return np.mean(group)\n",
    "\n",
    "# Inicializar un DataFrame para almacenar los resultados combinados\n",
    "resultado_combinado = None\n",
    "\n",
    "# Iterar a través de los archivos CSV\n",
    "for archivo_csv in archivos_csv:\n",
    "    archivo = os.path.join(carpeta, archivo_csv)\n",
    "    \n",
    "    # Leer el archivo CSV en un DataFrame\n",
    "    df = pd.read_csv(archivo)\n",
    "    \n",
    "    # Agrupar los datos por frecuencia dentro de la tolerancia y calcular el promedio utilizando NumPy\n",
    "    resultado_df = df.groupby(pd.cut(df['Frecuencia (Hz)'], bins=pd.interval_range(start=df['Frecuencia (Hz)'].min(), end=df['Frecuencia (Hz)'].max(), freq=tolerancia_frecuencia)))['dB'].agg(calcular_promedio).reset_index()\n",
    "    \n",
    "    # Renombrar las columnas del resultado para que reflejen el nombre del archivo\n",
    "    resultado_df.rename(columns={'dB': f'dB_{archivo_csv}'}, inplace=True)\n",
    "    \n",
    "    # Combinar los resultados con el DataFrame principal\n",
    "    if resultado_combinado is None:\n",
    "        resultado_combinado = resultado_df\n",
    "    else:\n",
    "        resultado_combinado = pd.merge(resultado_combinado, resultado_df, on='Frecuencia (Hz)')\n",
    "\n",
    "# Calcular el promedio total de todas las columnas 'dB_archivoN' y agregarlo como una columna\n",
    "resultado_combinado['Promedio_Total'] = resultado_combinado.iloc[:, 1:].mean(axis=1)\n",
    "\n",
    "# Calcular el promedio del intervalo de frecuencia (un solo valor de frecuencia)\n",
    "resultado_combinado['Promedio_Intervalo'] = resultado_combinado.iloc[:, 1:-1].mean(axis=1)\n",
    "\n",
    "# Crear un nuevo DataFrame con las columnas 'Frecuencia (Hz)' y 'Promedio_Intervalo'\n",
    "resultado_intervalo = resultado_combinado[['Frecuencia (Hz)', 'Promedio_Intervalo']]\n",
    "\n",
    "# Guardar el DataFrame resultante en un archivo CSV\n",
    "resultado_csv = 'resultado_total.csv'\n",
    "resultado_combinado.to_csv(resultado_csv, index=False)\n",
    "\n",
    "# Guardar el DataFrame de promedio de intervalo en un archivo CSV separado\n",
    "resultado_intervalo_csv = 'resultado_intervalo.csv'\n",
    "resultado_intervalo.to_csv(resultado_intervalo_csv, index=False)\n"
   ]
  },
  {
   "cell_type": "code",
   "execution_count": 56,
   "metadata": {},
   "outputs": [
    {
     "data": {
      "image/png": "[encoded data removed]",
      "text/plain": [
       "<Figure size 1200x600 with 1 Axes>"
      ]
     },
     "metadata": {},
     "output_type": "display_data"
    }
   ],
   "source": [
    "# Leer el archivo CSV con los datos\n",
    "archivo_csv = r'C:\\Users\\dfgom\\OneDrive\\Escritorio\\USRP\\RFI_Captura\\Salida\\Resultados\\resultado_todos_los_datos.csv'\n",
    "df = pd.read_csv(archivo_csv)\n",
    "\n",
    "# Extraer las columnas de frecuencia y promedio\n",
    "frecuencia = df['Frecuencia (Hz)'].to_numpy()\n",
    "promedio = df['Promedio_Total'].to_numpy()\n",
    "\n",
    "# Crear un gráfico de líneas\n",
    "plt.figure(figsize=(12, 6))\n",
    "plt.plot(frecuencia, promedio, marker='', linestyle='-')  # Utiliza 'o' para marcar los puntos\n",
    "\n",
    "# Configurar etiquetas y título\n",
    "plt.xlabel('Frecuencia (Hz)')\n",
    "plt.ylabel('Promedio Total (dB)')\n",
    "plt.title('Promedio Total por Intervalo de Frecuencia')\n",
    "\n",
    "# Mostrar el gráfico\n",
    "plt.xticks(rotation=45)\n",
    "plt.grid(True)  # Agrega una cuadrícula para mayor claridad\n",
    "plt.tight_layout()\n",
    "plt.show()"
   ]
  }
 ],
 "metadata": {
  "kernelspec": {
   "display_name": "base",
   "language": "python",
   "name": "python3"
  },
  "language_info": {
   "codemirror_mode": {
    "name": "ipython",
    "version": 3
   },
   "file_extension": ".py",
   "mimetype": "text/x-python",
   "name": "python",
   "nbconvert_exporter": "python",
   "pygments_lexer": "ipython3",
   "version": "3.8.0"
  },
  "orig_nbformat": 4
 },
 "nbformat": 4,
 "nbformat_minor": 2
}
